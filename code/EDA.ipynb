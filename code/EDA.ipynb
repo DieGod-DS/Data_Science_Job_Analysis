{
 "cells": [
  {
   "cell_type": "markdown",
   "metadata": {},
   "source": [
    "# Entendimento de Negócio\n",
    "\n",
    "O mercado de Ciência de Dados está em contante crescimento, é uma área relativamente nova e muitas muito requisitada por qualquer tipo de negócio. Com essa crescente na demanda de funcionários para o cargo, muitas pessoas acabaram migrando para área de dados seduzidos pela sua grante quantidade de benefícios.\n",
    "\n",
    "Este projeto visa analisar dados e possiveis tendências para vagas de trabalho em Ciência de Dados. Os dados aqui utilizados foram fornecidos pelo Kaggle e contêm campos essenciais para a análise, como cargo, empresa, local da empresa, faixa salarial etc...\n",
    "\n",
    "**Questões a serem resolvidas:**\n",
    "- Análise de Tendências: Examinaremos as tendências na demanda por várias habilidades em funções de ciência de dados.\n",
    "- Análise de Salários: Compararemos faixas salariais para cargos de ciência de dados em empresas e locais.\n",
    "- Análise de Localização: Identificaremos regiões com alta demanda por profissionais de ciência de dados.\n",
    "- Análise de Lacuna de Habilidades: Determinaremos as habilidades mais procuradas no setor de ciência de dados.\n",
    "\n",
    "Para este projeto utilizaremos Python e suas biblitecas para limpeza e transformação dos dados, e o Power BI para visualização dos dados."
   ]
  },
  {
   "cell_type": "markdown",
   "metadata": {},
   "source": [
    "____"
   ]
  },
  {
   "cell_type": "markdown",
   "metadata": {},
   "source": [
    "# Entendimento dos Dados"
   ]
  },
  {
   "cell_type": "code",
   "execution_count": 1,
   "metadata": {},
   "outputs": [],
   "source": [
    "# importando biliotecas\n",
    "import os\n",
    "import warnings\n",
    "import numpy as np\n",
    "import pandas as pd\n",
    "import seaborn as sns\n",
    "import matplotlib.pyplot as plt\n",
    "import matplotlib.image as mpimg\n",
    "\n",
    "warnings.filterwarnings('ignore')"
   ]
  },
  {
   "cell_type": "code",
   "execution_count": 2,
   "metadata": {},
   "outputs": [],
   "source": [
    "# importando os dados\n",
    "data = pd.read_csv(os.getcwd().replace('code', 'data')+'\\\\raw\\\\data_science_job.csv')"
   ]
  },
  {
   "cell_type": "code",
   "execution_count": 3,
   "metadata": {},
   "outputs": [
    {
     "data": {
      "text/html": [
       "<div>\n",
       "<style scoped>\n",
       "    .dataframe tbody tr th:only-of-type {\n",
       "        vertical-align: middle;\n",
       "    }\n",
       "\n",
       "    .dataframe tbody tr th {\n",
       "        vertical-align: top;\n",
       "    }\n",
       "\n",
       "    .dataframe thead th {\n",
       "        text-align: right;\n",
       "    }\n",
       "</style>\n",
       "<table border=\"1\" class=\"dataframe\">\n",
       "  <thead>\n",
       "    <tr style=\"text-align: right;\">\n",
       "      <th></th>\n",
       "      <th>work_year</th>\n",
       "      <th>job_title</th>\n",
       "      <th>job_category</th>\n",
       "      <th>salary_currency</th>\n",
       "      <th>salary</th>\n",
       "      <th>salary_in_usd</th>\n",
       "      <th>employee_residence</th>\n",
       "      <th>experience_level</th>\n",
       "      <th>employment_type</th>\n",
       "      <th>work_setting</th>\n",
       "      <th>company_location</th>\n",
       "      <th>company_size</th>\n",
       "    </tr>\n",
       "  </thead>\n",
       "  <tbody>\n",
       "    <tr>\n",
       "      <th>0</th>\n",
       "      <td>2022</td>\n",
       "      <td>Machine Learning Engineer  in office</td>\n",
       "      <td>Analysis</td>\n",
       "      <td>EUR</td>\n",
       "      <td>186597</td>\n",
       "      <td>136086</td>\n",
       "      <td>US</td>\n",
       "      <td>MI</td>\n",
       "      <td>CT</td>\n",
       "      <td>Remote</td>\n",
       "      <td>DE</td>\n",
       "      <td>L</td>\n",
       "    </tr>\n",
       "    <tr>\n",
       "      <th>1</th>\n",
       "      <td>2020</td>\n",
       "      <td>Statistician  (Remote)</td>\n",
       "      <td>ML/AI</td>\n",
       "      <td>JPY</td>\n",
       "      <td>110630</td>\n",
       "      <td>67982</td>\n",
       "      <td>JP</td>\n",
       "      <td>EX</td>\n",
       "      <td>FL</td>\n",
       "      <td>Remote</td>\n",
       "      <td>IN</td>\n",
       "      <td>M</td>\n",
       "    </tr>\n",
       "    <tr>\n",
       "      <th>2</th>\n",
       "      <td>2022</td>\n",
       "      <td>Machine Learning Engineer</td>\n",
       "      <td>ML/AI</td>\n",
       "      <td>INR</td>\n",
       "      <td>61280</td>\n",
       "      <td>153309</td>\n",
       "      <td>UK</td>\n",
       "      <td>MI</td>\n",
       "      <td>CT</td>\n",
       "      <td>Hybrid</td>\n",
       "      <td>CN</td>\n",
       "      <td>L</td>\n",
       "    </tr>\n",
       "    <tr>\n",
       "      <th>3</th>\n",
       "      <td>2022</td>\n",
       "      <td>Data Analyst  in office</td>\n",
       "      <td>ML/AI</td>\n",
       "      <td>JPY</td>\n",
       "      <td>154130</td>\n",
       "      <td>135242</td>\n",
       "      <td>DE</td>\n",
       "      <td>SE</td>\n",
       "      <td>FT</td>\n",
       "      <td>Hybrid</td>\n",
       "      <td>MX</td>\n",
       "      <td>L</td>\n",
       "    </tr>\n",
       "    <tr>\n",
       "      <th>4</th>\n",
       "      <td>2020</td>\n",
       "      <td>Statistician</td>\n",
       "      <td>Data Science</td>\n",
       "      <td>EUR</td>\n",
       "      <td>172312</td>\n",
       "      <td>35156</td>\n",
       "      <td>UK</td>\n",
       "      <td>MI</td>\n",
       "      <td>FT</td>\n",
       "      <td>In-person</td>\n",
       "      <td>UK</td>\n",
       "      <td>S</td>\n",
       "    </tr>\n",
       "    <tr>\n",
       "      <th>5</th>\n",
       "      <td>2020</td>\n",
       "      <td>Machine Learning Engineer</td>\n",
       "      <td>Engineering</td>\n",
       "      <td>JPY</td>\n",
       "      <td>36544</td>\n",
       "      <td>68280</td>\n",
       "      <td>CN</td>\n",
       "      <td>MI</td>\n",
       "      <td>FT</td>\n",
       "      <td>Hybrid</td>\n",
       "      <td>DE</td>\n",
       "      <td>M</td>\n",
       "    </tr>\n",
       "    <tr>\n",
       "      <th>6</th>\n",
       "      <td>2022</td>\n",
       "      <td>Data Analyst  in office</td>\n",
       "      <td>Data Science</td>\n",
       "      <td>JPY</td>\n",
       "      <td>178404</td>\n",
       "      <td>105324</td>\n",
       "      <td>DE</td>\n",
       "      <td>EX</td>\n",
       "      <td>PT</td>\n",
       "      <td>Remote</td>\n",
       "      <td>DE</td>\n",
       "      <td>L</td>\n",
       "    </tr>\n",
       "    <tr>\n",
       "      <th>7</th>\n",
       "      <td>2021</td>\n",
       "      <td>Data Scientist  (Remote)</td>\n",
       "      <td>ML/AI</td>\n",
       "      <td>JPY</td>\n",
       "      <td>187908</td>\n",
       "      <td>90706</td>\n",
       "      <td>UK</td>\n",
       "      <td>EX</td>\n",
       "      <td>CT</td>\n",
       "      <td>Remote</td>\n",
       "      <td>JP</td>\n",
       "      <td>M</td>\n",
       "    </tr>\n",
       "    <tr>\n",
       "      <th>8</th>\n",
       "      <td>2022</td>\n",
       "      <td>Data Analyst</td>\n",
       "      <td>NaN</td>\n",
       "      <td>NaN</td>\n",
       "      <td>-44388</td>\n",
       "      <td>171043</td>\n",
       "      <td>UK</td>\n",
       "      <td>NaN</td>\n",
       "      <td>FL</td>\n",
       "      <td>In-person</td>\n",
       "      <td>DE</td>\n",
       "      <td>NaN</td>\n",
       "    </tr>\n",
       "    <tr>\n",
       "      <th>9</th>\n",
       "      <td>2022</td>\n",
       "      <td>Statistician  (Remote)</td>\n",
       "      <td>Engineering</td>\n",
       "      <td>us dolars</td>\n",
       "      <td>31694</td>\n",
       "      <td>73408</td>\n",
       "      <td>DE</td>\n",
       "      <td>EN</td>\n",
       "      <td>CT</td>\n",
       "      <td>Remote</td>\n",
       "      <td>US</td>\n",
       "      <td>S</td>\n",
       "    </tr>\n",
       "  </tbody>\n",
       "</table>\n",
       "</div>"
      ],
      "text/plain": [
       "   work_year                             job_title  job_category  \\\n",
       "0       2022  Machine Learning Engineer  in office      Analysis   \n",
       "1       2020                Statistician  (Remote)         ML/AI   \n",
       "2       2022           Machine Learning Engineer           ML/AI   \n",
       "3       2022               Data Analyst  in office         ML/AI   \n",
       "4       2020                        Statistician    Data Science   \n",
       "5       2020           Machine Learning Engineer     Engineering   \n",
       "6       2022               Data Analyst  in office  Data Science   \n",
       "7       2021              Data Scientist  (Remote)         ML/AI   \n",
       "8       2022                        Data Analyst             NaN   \n",
       "9       2022                Statistician  (Remote)   Engineering   \n",
       "\n",
       "  salary_currency  salary  salary_in_usd employee_residence experience_level  \\\n",
       "0             EUR  186597         136086                 US               MI   \n",
       "1             JPY  110630          67982                 JP               EX   \n",
       "2             INR   61280         153309                 UK               MI   \n",
       "3             JPY  154130         135242                 DE               SE   \n",
       "4             EUR  172312          35156                 UK               MI   \n",
       "5             JPY   36544          68280                 CN               MI   \n",
       "6             JPY  178404         105324                 DE               EX   \n",
       "7             JPY  187908          90706                 UK               EX   \n",
       "8             NaN  -44388         171043                 UK              NaN   \n",
       "9       us dolars   31694          73408                 DE               EN   \n",
       "\n",
       "  employment_type work_setting company_location company_size  \n",
       "0              CT       Remote               DE            L  \n",
       "1              FL       Remote               IN            M  \n",
       "2              CT       Hybrid               CN            L  \n",
       "3              FT       Hybrid               MX            L  \n",
       "4              FT    In-person               UK            S  \n",
       "5              FT       Hybrid               DE            M  \n",
       "6              PT       Remote               DE            L  \n",
       "7              CT       Remote               JP            M  \n",
       "8              FL    In-person               DE          NaN  \n",
       "9              CT       Remote               US            S  "
      ]
     },
     "execution_count": 3,
     "metadata": {},
     "output_type": "execute_result"
    }
   ],
   "source": [
    "data.head(10)"
   ]
  },
  {
   "cell_type": "code",
   "execution_count": 4,
   "metadata": {},
   "outputs": [
    {
     "name": "stdout",
     "output_type": "stream",
     "text": [
      "<class 'pandas.core.frame.DataFrame'>\n",
      "RangeIndex: 5000 entries, 0 to 4999\n",
      "Data columns (total 12 columns):\n",
      " #   Column              Non-Null Count  Dtype \n",
      "---  ------              --------------  ----- \n",
      " 0   work_year           5000 non-null   int64 \n",
      " 1   job_title           5000 non-null   object\n",
      " 2   job_category        4500 non-null   object\n",
      " 3   salary_currency     4500 non-null   object\n",
      " 4   salary              5000 non-null   int64 \n",
      " 5   salary_in_usd       5000 non-null   int64 \n",
      " 6   employee_residence  5000 non-null   object\n",
      " 7   experience_level    4500 non-null   object\n",
      " 8   employment_type     5000 non-null   object\n",
      " 9   work_setting        5000 non-null   object\n",
      " 10  company_location    5000 non-null   object\n",
      " 11  company_size        4500 non-null   object\n",
      "dtypes: int64(3), object(9)\n",
      "memory usage: 468.9+ KB\n"
     ]
    }
   ],
   "source": [
    "data.info()"
   ]
  },
  {
   "cell_type": "markdown",
   "metadata": {},
   "source": [
    "Podemos notar que há colunas com 500 registros faltando."
   ]
  },
  {
   "cell_type": "code",
   "execution_count": 5,
   "metadata": {},
   "outputs": [
    {
     "data": {
      "text/plain": [
       "0"
      ]
     },
     "execution_count": 5,
     "metadata": {},
     "output_type": "execute_result"
    }
   ],
   "source": [
    "# conta a quantidade de dados duplicados\n",
    "data.duplicated().sum()"
   ]
  },
  {
   "cell_type": "markdown",
   "metadata": {},
   "source": [
    "Não há dados duplicados no dataset."
   ]
  },
  {
   "cell_type": "markdown",
   "metadata": {},
   "source": [
    "## Pré-Processamento dos Dados"
   ]
  },
  {
   "cell_type": "markdown",
   "metadata": {},
   "source": [
    "____"
   ]
  },
  {
   "cell_type": "markdown",
   "metadata": {},
   "source": [
    "### Coluna Ano"
   ]
  },
  {
   "cell_type": "code",
   "execution_count": 6,
   "metadata": {},
   "outputs": [
    {
     "data": {
      "text/plain": [
       "work_year\n",
       "2020    1738\n",
       "2021    1640\n",
       "2022    1622\n",
       "Name: count, dtype: int64"
      ]
     },
     "execution_count": 6,
     "metadata": {},
     "output_type": "execute_result"
    }
   ],
   "source": [
    "# analisando coluna work_year\n",
    "data.work_year.value_counts()"
   ]
  },
  {
   "cell_type": "markdown",
   "metadata": {},
   "source": [
    "Os dados contidos neste dataset são referentes aos anos de 2020 a 2022."
   ]
  },
  {
   "cell_type": "code",
   "execution_count": 7,
   "metadata": {},
   "outputs": [
    {
     "data": {
      "text/plain": [
       "0"
      ]
     },
     "execution_count": 7,
     "metadata": {},
     "output_type": "execute_result"
    }
   ],
   "source": [
    "data.work_year.isnull().sum()"
   ]
  },
  {
   "cell_type": "markdown",
   "metadata": {},
   "source": [
    "Não apresenta valores nulos."
   ]
  },
  {
   "cell_type": "markdown",
   "metadata": {},
   "source": [
    "____"
   ]
  },
  {
   "cell_type": "markdown",
   "metadata": {},
   "source": [
    "### Coluna Cargo"
   ]
  },
  {
   "cell_type": "code",
   "execution_count": 8,
   "metadata": {},
   "outputs": [
    {
     "data": {
      "text/plain": [
       "job_title\n",
       "Data Engineer  in office                372\n",
       "Data Engineer                           355\n",
       "Statistician                            354\n",
       "Data Scientist                          353\n",
       "Data Analyst  in office                 339\n",
       "Data Engineer  (Remote)                 338\n",
       "Data Analyst  (Remote)                  336\n",
       "Machine Learning Engineer  in office    331\n",
       "Data Scientist  in office               330\n",
       "Machine Learning Engineer  (Remote)     327\n",
       "Statistician  (Remote)                  323\n",
       "Statistician  in office                 317\n",
       "Data Scientist  (Remote)                310\n",
       "Data Analyst                            309\n",
       "Machine Learning Engineer               306\n",
       "Name: count, dtype: int64"
      ]
     },
     "execution_count": 8,
     "metadata": {},
     "output_type": "execute_result"
    }
   ],
   "source": [
    "# analisando os títulos de trabalhos\n",
    "data.job_title.value_counts()"
   ]
  },
  {
   "cell_type": "markdown",
   "metadata": {},
   "source": [
    "Aqui podemos notar que alguns títulos de repetem, porém identificando se é presencial ou home office. Como já possuímos uma coluna só com os tipos de trabalho, iremos remover estas identificações e agrupar os titulos únicos. "
   ]
  },
  {
   "cell_type": "code",
   "execution_count": 9,
   "metadata": {},
   "outputs": [],
   "source": [
    "data.job_title = data.job_title.str.replace('(', '').str.replace(')', '').str.replace('Remote', '').str.replace('in office', '')"
   ]
  },
  {
   "cell_type": "code",
   "execution_count": 10,
   "metadata": {},
   "outputs": [
    {
     "data": {
      "text/plain": [
       "0"
      ]
     },
     "execution_count": 10,
     "metadata": {},
     "output_type": "execute_result"
    }
   ],
   "source": [
    "data.job_title.isnull().sum()"
   ]
  },
  {
   "cell_type": "markdown",
   "metadata": {},
   "source": [
    "Não há valores nulos."
   ]
  },
  {
   "cell_type": "markdown",
   "metadata": {},
   "source": [
    "____"
   ]
  },
  {
   "cell_type": "markdown",
   "metadata": {},
   "source": [
    "### Coluna Categoria do Trabalho"
   ]
  },
  {
   "cell_type": "code",
   "execution_count": 11,
   "metadata": {},
   "outputs": [
    {
     "data": {
      "text/plain": [
       "job_category\n",
       "Data Science    1173\n",
       "ML/AI           1151\n",
       "Analysis        1108\n",
       "Engineering     1068\n",
       "Name: count, dtype: int64"
      ]
     },
     "execution_count": 11,
     "metadata": {},
     "output_type": "execute_result"
    }
   ],
   "source": [
    "# analisando categoria dos trabalhos\n",
    "data.job_category.value_counts()"
   ]
  },
  {
   "cell_type": "code",
   "execution_count": 12,
   "metadata": {},
   "outputs": [
    {
     "data": {
      "text/plain": [
       "500"
      ]
     },
     "execution_count": 12,
     "metadata": {},
     "output_type": "execute_result"
    }
   ],
   "source": [
    "data.job_category.isnull().sum()"
   ]
  },
  {
   "cell_type": "markdown",
   "metadata": {},
   "source": [
    "Há 500 dados faltantes nas cetegorias de trabalho, vamos investigar."
   ]
  },
  {
   "cell_type": "code",
   "execution_count": 13,
   "metadata": {},
   "outputs": [
    {
     "data": {
      "text/html": [
       "<div>\n",
       "<style scoped>\n",
       "    .dataframe tbody tr th:only-of-type {\n",
       "        vertical-align: middle;\n",
       "    }\n",
       "\n",
       "    .dataframe tbody tr th {\n",
       "        vertical-align: top;\n",
       "    }\n",
       "\n",
       "    .dataframe thead th {\n",
       "        text-align: right;\n",
       "    }\n",
       "</style>\n",
       "<table border=\"1\" class=\"dataframe\">\n",
       "  <thead>\n",
       "    <tr style=\"text-align: right;\">\n",
       "      <th></th>\n",
       "      <th>work_year</th>\n",
       "      <th>job_title</th>\n",
       "      <th>job_category</th>\n",
       "      <th>salary_currency</th>\n",
       "      <th>salary</th>\n",
       "      <th>salary_in_usd</th>\n",
       "      <th>employee_residence</th>\n",
       "      <th>experience_level</th>\n",
       "      <th>employment_type</th>\n",
       "      <th>work_setting</th>\n",
       "      <th>company_location</th>\n",
       "      <th>company_size</th>\n",
       "    </tr>\n",
       "  </thead>\n",
       "  <tbody>\n",
       "    <tr>\n",
       "      <th>8</th>\n",
       "      <td>2022</td>\n",
       "      <td>Data Analyst</td>\n",
       "      <td>NaN</td>\n",
       "      <td>NaN</td>\n",
       "      <td>-44388</td>\n",
       "      <td>171043</td>\n",
       "      <td>UK</td>\n",
       "      <td>NaN</td>\n",
       "      <td>FL</td>\n",
       "      <td>In-person</td>\n",
       "      <td>DE</td>\n",
       "      <td>NaN</td>\n",
       "    </tr>\n",
       "    <tr>\n",
       "      <th>12</th>\n",
       "      <td>2020</td>\n",
       "      <td>Machine Learning Engineer</td>\n",
       "      <td>NaN</td>\n",
       "      <td>NaN</td>\n",
       "      <td>143057</td>\n",
       "      <td>76456</td>\n",
       "      <td>MX</td>\n",
       "      <td>NaN</td>\n",
       "      <td>FL</td>\n",
       "      <td>In-person</td>\n",
       "      <td>DE</td>\n",
       "      <td>NaN</td>\n",
       "    </tr>\n",
       "    <tr>\n",
       "      <th>23</th>\n",
       "      <td>2021</td>\n",
       "      <td>Statistician</td>\n",
       "      <td>NaN</td>\n",
       "      <td>NaN</td>\n",
       "      <td>-112757</td>\n",
       "      <td>124951</td>\n",
       "      <td>DE</td>\n",
       "      <td>NaN</td>\n",
       "      <td>FT</td>\n",
       "      <td>Hybrid</td>\n",
       "      <td>JP</td>\n",
       "      <td>NaN</td>\n",
       "    </tr>\n",
       "    <tr>\n",
       "      <th>26</th>\n",
       "      <td>2020</td>\n",
       "      <td>Data Scientist</td>\n",
       "      <td>NaN</td>\n",
       "      <td>NaN</td>\n",
       "      <td>56534</td>\n",
       "      <td>147139</td>\n",
       "      <td>DE</td>\n",
       "      <td>NaN</td>\n",
       "      <td>CT</td>\n",
       "      <td>Hybrid</td>\n",
       "      <td>JP</td>\n",
       "      <td>NaN</td>\n",
       "    </tr>\n",
       "    <tr>\n",
       "      <th>29</th>\n",
       "      <td>2022</td>\n",
       "      <td>Data Engineer</td>\n",
       "      <td>NaN</td>\n",
       "      <td>NaN</td>\n",
       "      <td>-142296</td>\n",
       "      <td>174973</td>\n",
       "      <td>DE</td>\n",
       "      <td>NaN</td>\n",
       "      <td>FL</td>\n",
       "      <td>Hybrid</td>\n",
       "      <td>DE</td>\n",
       "      <td>NaN</td>\n",
       "    </tr>\n",
       "    <tr>\n",
       "      <th>...</th>\n",
       "      <td>...</td>\n",
       "      <td>...</td>\n",
       "      <td>...</td>\n",
       "      <td>...</td>\n",
       "      <td>...</td>\n",
       "      <td>...</td>\n",
       "      <td>...</td>\n",
       "      <td>...</td>\n",
       "      <td>...</td>\n",
       "      <td>...</td>\n",
       "      <td>...</td>\n",
       "      <td>...</td>\n",
       "    </tr>\n",
       "    <tr>\n",
       "      <th>4923</th>\n",
       "      <td>2020</td>\n",
       "      <td>Data Scientist</td>\n",
       "      <td>NaN</td>\n",
       "      <td>NaN</td>\n",
       "      <td>174797</td>\n",
       "      <td>45003</td>\n",
       "      <td>IN</td>\n",
       "      <td>NaN</td>\n",
       "      <td>PT</td>\n",
       "      <td>In-person</td>\n",
       "      <td>UK</td>\n",
       "      <td>NaN</td>\n",
       "    </tr>\n",
       "    <tr>\n",
       "      <th>4966</th>\n",
       "      <td>2022</td>\n",
       "      <td>Statistician</td>\n",
       "      <td>NaN</td>\n",
       "      <td>NaN</td>\n",
       "      <td>-85120</td>\n",
       "      <td>119362</td>\n",
       "      <td>US</td>\n",
       "      <td>NaN</td>\n",
       "      <td>FL</td>\n",
       "      <td>Remote</td>\n",
       "      <td>CN</td>\n",
       "      <td>NaN</td>\n",
       "    </tr>\n",
       "    <tr>\n",
       "      <th>4975</th>\n",
       "      <td>2022</td>\n",
       "      <td>Machine Learning Engineer</td>\n",
       "      <td>NaN</td>\n",
       "      <td>NaN</td>\n",
       "      <td>53547</td>\n",
       "      <td>109608</td>\n",
       "      <td>IN</td>\n",
       "      <td>NaN</td>\n",
       "      <td>FT</td>\n",
       "      <td>Hybrid</td>\n",
       "      <td>CN</td>\n",
       "      <td>NaN</td>\n",
       "    </tr>\n",
       "    <tr>\n",
       "      <th>4995</th>\n",
       "      <td>2020</td>\n",
       "      <td>Machine Learning Engineer</td>\n",
       "      <td>NaN</td>\n",
       "      <td>NaN</td>\n",
       "      <td>179769</td>\n",
       "      <td>179111</td>\n",
       "      <td>UK</td>\n",
       "      <td>NaN</td>\n",
       "      <td>CT</td>\n",
       "      <td>In-person</td>\n",
       "      <td>IN</td>\n",
       "      <td>NaN</td>\n",
       "    </tr>\n",
       "    <tr>\n",
       "      <th>4996</th>\n",
       "      <td>2021</td>\n",
       "      <td>Machine Learning Engineer</td>\n",
       "      <td>NaN</td>\n",
       "      <td>NaN</td>\n",
       "      <td>184642</td>\n",
       "      <td>196373</td>\n",
       "      <td>CN</td>\n",
       "      <td>NaN</td>\n",
       "      <td>FL</td>\n",
       "      <td>Remote</td>\n",
       "      <td>UK</td>\n",
       "      <td>NaN</td>\n",
       "    </tr>\n",
       "  </tbody>\n",
       "</table>\n",
       "<p>500 rows × 12 columns</p>\n",
       "</div>"
      ],
      "text/plain": [
       "      work_year                    job_title job_category salary_currency  \\\n",
       "8          2022               Data Analyst            NaN             NaN   \n",
       "12         2020  Machine Learning Engineer            NaN             NaN   \n",
       "23         2021               Statistician            NaN             NaN   \n",
       "26         2020             Data Scientist            NaN             NaN   \n",
       "29         2022              Data Engineer            NaN             NaN   \n",
       "...         ...                          ...          ...             ...   \n",
       "4923       2020             Data Scientist            NaN             NaN   \n",
       "4966       2022               Statistician            NaN             NaN   \n",
       "4975       2022  Machine Learning Engineer            NaN             NaN   \n",
       "4995       2020  Machine Learning Engineer            NaN             NaN   \n",
       "4996       2021  Machine Learning Engineer            NaN             NaN   \n",
       "\n",
       "      salary  salary_in_usd employee_residence experience_level  \\\n",
       "8     -44388         171043                 UK              NaN   \n",
       "12    143057          76456                 MX              NaN   \n",
       "23   -112757         124951                 DE              NaN   \n",
       "26     56534         147139                 DE              NaN   \n",
       "29   -142296         174973                 DE              NaN   \n",
       "...      ...            ...                ...              ...   \n",
       "4923  174797          45003                 IN              NaN   \n",
       "4966  -85120         119362                 US              NaN   \n",
       "4975   53547         109608                 IN              NaN   \n",
       "4995  179769         179111                 UK              NaN   \n",
       "4996  184642         196373                 CN              NaN   \n",
       "\n",
       "     employment_type work_setting company_location company_size  \n",
       "8                 FL    In-person               DE          NaN  \n",
       "12                FL    In-person               DE          NaN  \n",
       "23                FT       Hybrid               JP          NaN  \n",
       "26                CT       Hybrid               JP          NaN  \n",
       "29                FL       Hybrid               DE          NaN  \n",
       "...              ...          ...              ...          ...  \n",
       "4923              PT    In-person               UK          NaN  \n",
       "4966              FL       Remote               CN          NaN  \n",
       "4975              FT       Hybrid               CN          NaN  \n",
       "4995              CT    In-person               IN          NaN  \n",
       "4996              FL       Remote               UK          NaN  \n",
       "\n",
       "[500 rows x 12 columns]"
      ]
     },
     "execution_count": 13,
     "metadata": {},
     "output_type": "execute_result"
    }
   ],
   "source": [
    "data.loc[data.job_category.isnull()]"
   ]
  },
  {
   "cell_type": "markdown",
   "metadata": {},
   "source": [
    "Os dados então faltantes não parecem ser erro no registro, eu acredito que possa ser só a falta de especificação de onde os dados foram tirados. Como não há um time de negócios para eu perguntar se esta este ponto é verdadeiro, irei supor que sim, e para solucionar e não deixar esses valores nulos, irei substituí-los pela moda de cada título de trabalho representado."
   ]
  },
  {
   "cell_type": "code",
   "execution_count": 14,
   "metadata": {},
   "outputs": [
    {
     "data": {
      "text/html": [
       "<div>\n",
       "<style scoped>\n",
       "    .dataframe tbody tr th:only-of-type {\n",
       "        vertical-align: middle;\n",
       "    }\n",
       "\n",
       "    .dataframe tbody tr th {\n",
       "        vertical-align: top;\n",
       "    }\n",
       "\n",
       "    .dataframe thead th {\n",
       "        text-align: right;\n",
       "    }\n",
       "</style>\n",
       "<table border=\"1\" class=\"dataframe\">\n",
       "  <thead>\n",
       "    <tr style=\"text-align: right;\">\n",
       "      <th></th>\n",
       "      <th>work_year</th>\n",
       "      <th>job_title</th>\n",
       "      <th>job_category</th>\n",
       "      <th>salary_currency</th>\n",
       "      <th>salary</th>\n",
       "      <th>salary_in_usd</th>\n",
       "      <th>employee_residence</th>\n",
       "      <th>experience_level</th>\n",
       "      <th>employment_type</th>\n",
       "      <th>work_setting</th>\n",
       "      <th>company_location</th>\n",
       "      <th>company_size</th>\n",
       "    </tr>\n",
       "  </thead>\n",
       "  <tbody>\n",
       "    <tr>\n",
       "      <th>0</th>\n",
       "      <td>2022</td>\n",
       "      <td>Machine Learning Engineer</td>\n",
       "      <td>Analysis</td>\n",
       "      <td>EUR</td>\n",
       "      <td>186597</td>\n",
       "      <td>136086</td>\n",
       "      <td>US</td>\n",
       "      <td>MI</td>\n",
       "      <td>CT</td>\n",
       "      <td>Remote</td>\n",
       "      <td>DE</td>\n",
       "      <td>L</td>\n",
       "    </tr>\n",
       "    <tr>\n",
       "      <th>1</th>\n",
       "      <td>2020</td>\n",
       "      <td>Statistician</td>\n",
       "      <td>ML/AI</td>\n",
       "      <td>JPY</td>\n",
       "      <td>110630</td>\n",
       "      <td>67982</td>\n",
       "      <td>JP</td>\n",
       "      <td>EX</td>\n",
       "      <td>FL</td>\n",
       "      <td>Remote</td>\n",
       "      <td>IN</td>\n",
       "      <td>M</td>\n",
       "    </tr>\n",
       "    <tr>\n",
       "      <th>2</th>\n",
       "      <td>2022</td>\n",
       "      <td>Machine Learning Engineer</td>\n",
       "      <td>ML/AI</td>\n",
       "      <td>INR</td>\n",
       "      <td>61280</td>\n",
       "      <td>153309</td>\n",
       "      <td>UK</td>\n",
       "      <td>MI</td>\n",
       "      <td>CT</td>\n",
       "      <td>Hybrid</td>\n",
       "      <td>CN</td>\n",
       "      <td>L</td>\n",
       "    </tr>\n",
       "    <tr>\n",
       "      <th>3</th>\n",
       "      <td>2022</td>\n",
       "      <td>Data Analyst</td>\n",
       "      <td>ML/AI</td>\n",
       "      <td>JPY</td>\n",
       "      <td>154130</td>\n",
       "      <td>135242</td>\n",
       "      <td>DE</td>\n",
       "      <td>SE</td>\n",
       "      <td>FT</td>\n",
       "      <td>Hybrid</td>\n",
       "      <td>MX</td>\n",
       "      <td>L</td>\n",
       "    </tr>\n",
       "    <tr>\n",
       "      <th>4</th>\n",
       "      <td>2020</td>\n",
       "      <td>Statistician</td>\n",
       "      <td>Data Science</td>\n",
       "      <td>EUR</td>\n",
       "      <td>172312</td>\n",
       "      <td>35156</td>\n",
       "      <td>UK</td>\n",
       "      <td>MI</td>\n",
       "      <td>FT</td>\n",
       "      <td>In-person</td>\n",
       "      <td>UK</td>\n",
       "      <td>S</td>\n",
       "    </tr>\n",
       "    <tr>\n",
       "      <th>...</th>\n",
       "      <td>...</td>\n",
       "      <td>...</td>\n",
       "      <td>...</td>\n",
       "      <td>...</td>\n",
       "      <td>...</td>\n",
       "      <td>...</td>\n",
       "      <td>...</td>\n",
       "      <td>...</td>\n",
       "      <td>...</td>\n",
       "      <td>...</td>\n",
       "      <td>...</td>\n",
       "      <td>...</td>\n",
       "    </tr>\n",
       "    <tr>\n",
       "      <th>4995</th>\n",
       "      <td>2020</td>\n",
       "      <td>Machine Learning Engineer</td>\n",
       "      <td>NaN</td>\n",
       "      <td>NaN</td>\n",
       "      <td>179769</td>\n",
       "      <td>179111</td>\n",
       "      <td>UK</td>\n",
       "      <td>NaN</td>\n",
       "      <td>CT</td>\n",
       "      <td>In-person</td>\n",
       "      <td>IN</td>\n",
       "      <td>NaN</td>\n",
       "    </tr>\n",
       "    <tr>\n",
       "      <th>4996</th>\n",
       "      <td>2021</td>\n",
       "      <td>Machine Learning Engineer</td>\n",
       "      <td>NaN</td>\n",
       "      <td>NaN</td>\n",
       "      <td>184642</td>\n",
       "      <td>196373</td>\n",
       "      <td>CN</td>\n",
       "      <td>NaN</td>\n",
       "      <td>FL</td>\n",
       "      <td>Remote</td>\n",
       "      <td>UK</td>\n",
       "      <td>NaN</td>\n",
       "    </tr>\n",
       "    <tr>\n",
       "      <th>4997</th>\n",
       "      <td>2022</td>\n",
       "      <td>Machine Learning Engineer</td>\n",
       "      <td>Analysis</td>\n",
       "      <td>GBP</td>\n",
       "      <td>135319</td>\n",
       "      <td>51366</td>\n",
       "      <td>UK</td>\n",
       "      <td>EN</td>\n",
       "      <td>FL</td>\n",
       "      <td>Hybrid</td>\n",
       "      <td>JP</td>\n",
       "      <td>M</td>\n",
       "    </tr>\n",
       "    <tr>\n",
       "      <th>4998</th>\n",
       "      <td>2021</td>\n",
       "      <td>Statistician</td>\n",
       "      <td>Data Science</td>\n",
       "      <td>EUR</td>\n",
       "      <td>58037</td>\n",
       "      <td>181817</td>\n",
       "      <td>US</td>\n",
       "      <td>MI</td>\n",
       "      <td>PT</td>\n",
       "      <td>Remote</td>\n",
       "      <td>DE</td>\n",
       "      <td>S</td>\n",
       "    </tr>\n",
       "    <tr>\n",
       "      <th>4999</th>\n",
       "      <td>2020</td>\n",
       "      <td>Data Scientist</td>\n",
       "      <td>Engineering</td>\n",
       "      <td>GBP</td>\n",
       "      <td>143565</td>\n",
       "      <td>172425</td>\n",
       "      <td>CN</td>\n",
       "      <td>EX</td>\n",
       "      <td>CT</td>\n",
       "      <td>Remote</td>\n",
       "      <td>CN</td>\n",
       "      <td>L</td>\n",
       "    </tr>\n",
       "  </tbody>\n",
       "</table>\n",
       "<p>5000 rows × 12 columns</p>\n",
       "</div>"
      ],
      "text/plain": [
       "      work_year                    job_title  job_category salary_currency  \\\n",
       "0          2022  Machine Learning Engineer        Analysis             EUR   \n",
       "1          2020               Statistician           ML/AI             JPY   \n",
       "2          2022  Machine Learning Engineer           ML/AI             INR   \n",
       "3          2022               Data Analyst           ML/AI             JPY   \n",
       "4          2020               Statistician    Data Science             EUR   \n",
       "...         ...                          ...           ...             ...   \n",
       "4995       2020  Machine Learning Engineer             NaN             NaN   \n",
       "4996       2021  Machine Learning Engineer             NaN             NaN   \n",
       "4997       2022  Machine Learning Engineer        Analysis             GBP   \n",
       "4998       2021               Statistician    Data Science             EUR   \n",
       "4999       2020             Data Scientist     Engineering             GBP   \n",
       "\n",
       "      salary  salary_in_usd employee_residence experience_level  \\\n",
       "0     186597         136086                 US               MI   \n",
       "1     110630          67982                 JP               EX   \n",
       "2      61280         153309                 UK               MI   \n",
       "3     154130         135242                 DE               SE   \n",
       "4     172312          35156                 UK               MI   \n",
       "...      ...            ...                ...              ...   \n",
       "4995  179769         179111                 UK              NaN   \n",
       "4996  184642         196373                 CN              NaN   \n",
       "4997  135319          51366                 UK               EN   \n",
       "4998   58037         181817                 US               MI   \n",
       "4999  143565         172425                 CN               EX   \n",
       "\n",
       "     employment_type work_setting company_location company_size  \n",
       "0                 CT       Remote               DE            L  \n",
       "1                 FL       Remote               IN            M  \n",
       "2                 CT       Hybrid               CN            L  \n",
       "3                 FT       Hybrid               MX            L  \n",
       "4                 FT    In-person               UK            S  \n",
       "...              ...          ...              ...          ...  \n",
       "4995              CT    In-person               IN          NaN  \n",
       "4996              FL       Remote               UK          NaN  \n",
       "4997              FL       Hybrid               JP            M  \n",
       "4998              PT       Remote               DE            S  \n",
       "4999              CT       Remote               CN            L  \n",
       "\n",
       "[5000 rows x 12 columns]"
      ]
     },
     "execution_count": 14,
     "metadata": {},
     "output_type": "execute_result"
    }
   ],
   "source": [
    "data"
   ]
  },
  {
   "cell_type": "code",
   "execution_count": 15,
   "metadata": {},
   "outputs": [],
   "source": [
    "# remove os espaços ao lado direito do final do caractere\n",
    "data.job_title = data.job_title.str.rstrip()\n",
    "\n",
    "# substitui espaçoes por caractere _\n",
    "data.job_title = data.job_title.str.lower().str.replace(' ', '_')"
   ]
  },
  {
   "cell_type": "code",
   "execution_count": 16,
   "metadata": {},
   "outputs": [
    {
     "data": {
      "text/html": [
       "<div>\n",
       "<style scoped>\n",
       "    .dataframe tbody tr th:only-of-type {\n",
       "        vertical-align: middle;\n",
       "    }\n",
       "\n",
       "    .dataframe tbody tr th {\n",
       "        vertical-align: top;\n",
       "    }\n",
       "\n",
       "    .dataframe thead th {\n",
       "        text-align: right;\n",
       "    }\n",
       "</style>\n",
       "<table border=\"1\" class=\"dataframe\">\n",
       "  <thead>\n",
       "    <tr style=\"text-align: right;\">\n",
       "      <th></th>\n",
       "      <th>work_year</th>\n",
       "      <th>job_title</th>\n",
       "      <th>job_category</th>\n",
       "      <th>salary_currency</th>\n",
       "      <th>salary</th>\n",
       "      <th>salary_in_usd</th>\n",
       "      <th>employee_residence</th>\n",
       "      <th>experience_level</th>\n",
       "      <th>employment_type</th>\n",
       "      <th>work_setting</th>\n",
       "      <th>company_location</th>\n",
       "      <th>company_size</th>\n",
       "    </tr>\n",
       "  </thead>\n",
       "  <tbody>\n",
       "    <tr>\n",
       "      <th>0</th>\n",
       "      <td>2022</td>\n",
       "      <td>machine_learning_engineer</td>\n",
       "      <td>Analysis</td>\n",
       "      <td>EUR</td>\n",
       "      <td>186597</td>\n",
       "      <td>136086</td>\n",
       "      <td>US</td>\n",
       "      <td>MI</td>\n",
       "      <td>CT</td>\n",
       "      <td>Remote</td>\n",
       "      <td>DE</td>\n",
       "      <td>L</td>\n",
       "    </tr>\n",
       "    <tr>\n",
       "      <th>2</th>\n",
       "      <td>2022</td>\n",
       "      <td>machine_learning_engineer</td>\n",
       "      <td>ML/AI</td>\n",
       "      <td>INR</td>\n",
       "      <td>61280</td>\n",
       "      <td>153309</td>\n",
       "      <td>UK</td>\n",
       "      <td>MI</td>\n",
       "      <td>CT</td>\n",
       "      <td>Hybrid</td>\n",
       "      <td>CN</td>\n",
       "      <td>L</td>\n",
       "    </tr>\n",
       "    <tr>\n",
       "      <th>5</th>\n",
       "      <td>2020</td>\n",
       "      <td>machine_learning_engineer</td>\n",
       "      <td>Engineering</td>\n",
       "      <td>JPY</td>\n",
       "      <td>36544</td>\n",
       "      <td>68280</td>\n",
       "      <td>CN</td>\n",
       "      <td>MI</td>\n",
       "      <td>FT</td>\n",
       "      <td>Hybrid</td>\n",
       "      <td>DE</td>\n",
       "      <td>M</td>\n",
       "    </tr>\n",
       "    <tr>\n",
       "      <th>12</th>\n",
       "      <td>2020</td>\n",
       "      <td>machine_learning_engineer</td>\n",
       "      <td>NaN</td>\n",
       "      <td>NaN</td>\n",
       "      <td>143057</td>\n",
       "      <td>76456</td>\n",
       "      <td>MX</td>\n",
       "      <td>NaN</td>\n",
       "      <td>FL</td>\n",
       "      <td>In-person</td>\n",
       "      <td>DE</td>\n",
       "      <td>NaN</td>\n",
       "    </tr>\n",
       "    <tr>\n",
       "      <th>24</th>\n",
       "      <td>2020</td>\n",
       "      <td>machine_learning_engineer</td>\n",
       "      <td>Engineering</td>\n",
       "      <td>EUR</td>\n",
       "      <td>38463</td>\n",
       "      <td>56414</td>\n",
       "      <td>IN</td>\n",
       "      <td>EN</td>\n",
       "      <td>FT</td>\n",
       "      <td>Remote</td>\n",
       "      <td>UK</td>\n",
       "      <td>M</td>\n",
       "    </tr>\n",
       "    <tr>\n",
       "      <th>...</th>\n",
       "      <td>...</td>\n",
       "      <td>...</td>\n",
       "      <td>...</td>\n",
       "      <td>...</td>\n",
       "      <td>...</td>\n",
       "      <td>...</td>\n",
       "      <td>...</td>\n",
       "      <td>...</td>\n",
       "      <td>...</td>\n",
       "      <td>...</td>\n",
       "      <td>...</td>\n",
       "      <td>...</td>\n",
       "    </tr>\n",
       "    <tr>\n",
       "      <th>4991</th>\n",
       "      <td>2020</td>\n",
       "      <td>machine_learning_engineer</td>\n",
       "      <td>ML/AI</td>\n",
       "      <td>JPY</td>\n",
       "      <td>175891</td>\n",
       "      <td>153825</td>\n",
       "      <td>CN</td>\n",
       "      <td>EX</td>\n",
       "      <td>FL</td>\n",
       "      <td>Remote</td>\n",
       "      <td>US</td>\n",
       "      <td>L</td>\n",
       "    </tr>\n",
       "    <tr>\n",
       "      <th>4992</th>\n",
       "      <td>2021</td>\n",
       "      <td>machine_learning_engineer</td>\n",
       "      <td>Analysis</td>\n",
       "      <td>INR</td>\n",
       "      <td>37404</td>\n",
       "      <td>37426</td>\n",
       "      <td>JP</td>\n",
       "      <td>SE</td>\n",
       "      <td>FL</td>\n",
       "      <td>Hybrid</td>\n",
       "      <td>CN</td>\n",
       "      <td>M</td>\n",
       "    </tr>\n",
       "    <tr>\n",
       "      <th>4995</th>\n",
       "      <td>2020</td>\n",
       "      <td>machine_learning_engineer</td>\n",
       "      <td>NaN</td>\n",
       "      <td>NaN</td>\n",
       "      <td>179769</td>\n",
       "      <td>179111</td>\n",
       "      <td>UK</td>\n",
       "      <td>NaN</td>\n",
       "      <td>CT</td>\n",
       "      <td>In-person</td>\n",
       "      <td>IN</td>\n",
       "      <td>NaN</td>\n",
       "    </tr>\n",
       "    <tr>\n",
       "      <th>4996</th>\n",
       "      <td>2021</td>\n",
       "      <td>machine_learning_engineer</td>\n",
       "      <td>NaN</td>\n",
       "      <td>NaN</td>\n",
       "      <td>184642</td>\n",
       "      <td>196373</td>\n",
       "      <td>CN</td>\n",
       "      <td>NaN</td>\n",
       "      <td>FL</td>\n",
       "      <td>Remote</td>\n",
       "      <td>UK</td>\n",
       "      <td>NaN</td>\n",
       "    </tr>\n",
       "    <tr>\n",
       "      <th>4997</th>\n",
       "      <td>2022</td>\n",
       "      <td>machine_learning_engineer</td>\n",
       "      <td>Analysis</td>\n",
       "      <td>GBP</td>\n",
       "      <td>135319</td>\n",
       "      <td>51366</td>\n",
       "      <td>UK</td>\n",
       "      <td>EN</td>\n",
       "      <td>FL</td>\n",
       "      <td>Hybrid</td>\n",
       "      <td>JP</td>\n",
       "      <td>M</td>\n",
       "    </tr>\n",
       "  </tbody>\n",
       "</table>\n",
       "<p>964 rows × 12 columns</p>\n",
       "</div>"
      ],
      "text/plain": [
       "      work_year                  job_title job_category salary_currency  \\\n",
       "0          2022  machine_learning_engineer     Analysis             EUR   \n",
       "2          2022  machine_learning_engineer        ML/AI             INR   \n",
       "5          2020  machine_learning_engineer  Engineering             JPY   \n",
       "12         2020  machine_learning_engineer          NaN             NaN   \n",
       "24         2020  machine_learning_engineer  Engineering             EUR   \n",
       "...         ...                        ...          ...             ...   \n",
       "4991       2020  machine_learning_engineer        ML/AI             JPY   \n",
       "4992       2021  machine_learning_engineer     Analysis             INR   \n",
       "4995       2020  machine_learning_engineer          NaN             NaN   \n",
       "4996       2021  machine_learning_engineer          NaN             NaN   \n",
       "4997       2022  machine_learning_engineer     Analysis             GBP   \n",
       "\n",
       "      salary  salary_in_usd employee_residence experience_level  \\\n",
       "0     186597         136086                 US               MI   \n",
       "2      61280         153309                 UK               MI   \n",
       "5      36544          68280                 CN               MI   \n",
       "12    143057          76456                 MX              NaN   \n",
       "24     38463          56414                 IN               EN   \n",
       "...      ...            ...                ...              ...   \n",
       "4991  175891         153825                 CN               EX   \n",
       "4992   37404          37426                 JP               SE   \n",
       "4995  179769         179111                 UK              NaN   \n",
       "4996  184642         196373                 CN              NaN   \n",
       "4997  135319          51366                 UK               EN   \n",
       "\n",
       "     employment_type work_setting company_location company_size  \n",
       "0                 CT       Remote               DE            L  \n",
       "2                 CT       Hybrid               CN            L  \n",
       "5                 FT       Hybrid               DE            M  \n",
       "12                FL    In-person               DE          NaN  \n",
       "24                FT       Remote               UK            M  \n",
       "...              ...          ...              ...          ...  \n",
       "4991              FL       Remote               US            L  \n",
       "4992              FL       Hybrid               CN            M  \n",
       "4995              CT    In-person               IN          NaN  \n",
       "4996              FL       Remote               UK          NaN  \n",
       "4997              FL       Hybrid               JP            M  \n",
       "\n",
       "[964 rows x 12 columns]"
      ]
     },
     "execution_count": 16,
     "metadata": {},
     "output_type": "execute_result"
    }
   ],
   "source": [
    "data.loc[data.job_title == 'machine_learning_engineer']"
   ]
  },
  {
   "cell_type": "code",
   "execution_count": 17,
   "metadata": {},
   "outputs": [],
   "source": [
    "# Calcular a moda de job_category para cada job_title\n",
    "modas = data.groupby('job_title')['job_category'].agg(lambda x: x.mode().iloc[0] if not x.mode().empty else None)\n",
    "\n",
    "# Preencher apenas os valores nulos de job_category\n",
    "for job_title, moda in modas.items():\n",
    "    data.loc[(data['job_title'] == job_title) & (data['job_category'].isnull()), 'job_category'] = moda"
   ]
  },
  {
   "cell_type": "code",
   "execution_count": 18,
   "metadata": {},
   "outputs": [
    {
     "data": {
      "text/html": [
       "<div>\n",
       "<style scoped>\n",
       "    .dataframe tbody tr th:only-of-type {\n",
       "        vertical-align: middle;\n",
       "    }\n",
       "\n",
       "    .dataframe tbody tr th {\n",
       "        vertical-align: top;\n",
       "    }\n",
       "\n",
       "    .dataframe thead th {\n",
       "        text-align: right;\n",
       "    }\n",
       "</style>\n",
       "<table border=\"1\" class=\"dataframe\">\n",
       "  <thead>\n",
       "    <tr style=\"text-align: right;\">\n",
       "      <th></th>\n",
       "      <th>work_year</th>\n",
       "      <th>job_title</th>\n",
       "      <th>job_category</th>\n",
       "      <th>salary_currency</th>\n",
       "      <th>salary</th>\n",
       "      <th>salary_in_usd</th>\n",
       "      <th>employee_residence</th>\n",
       "      <th>experience_level</th>\n",
       "      <th>employment_type</th>\n",
       "      <th>work_setting</th>\n",
       "      <th>company_location</th>\n",
       "      <th>company_size</th>\n",
       "    </tr>\n",
       "  </thead>\n",
       "  <tbody>\n",
       "    <tr>\n",
       "      <th>0</th>\n",
       "      <td>2022</td>\n",
       "      <td>machine_learning_engineer</td>\n",
       "      <td>Analysis</td>\n",
       "      <td>EUR</td>\n",
       "      <td>186597</td>\n",
       "      <td>136086</td>\n",
       "      <td>US</td>\n",
       "      <td>MI</td>\n",
       "      <td>CT</td>\n",
       "      <td>Remote</td>\n",
       "      <td>DE</td>\n",
       "      <td>L</td>\n",
       "    </tr>\n",
       "    <tr>\n",
       "      <th>1</th>\n",
       "      <td>2020</td>\n",
       "      <td>statistician</td>\n",
       "      <td>ML/AI</td>\n",
       "      <td>JPY</td>\n",
       "      <td>110630</td>\n",
       "      <td>67982</td>\n",
       "      <td>JP</td>\n",
       "      <td>EX</td>\n",
       "      <td>FL</td>\n",
       "      <td>Remote</td>\n",
       "      <td>IN</td>\n",
       "      <td>M</td>\n",
       "    </tr>\n",
       "    <tr>\n",
       "      <th>2</th>\n",
       "      <td>2022</td>\n",
       "      <td>machine_learning_engineer</td>\n",
       "      <td>ML/AI</td>\n",
       "      <td>INR</td>\n",
       "      <td>61280</td>\n",
       "      <td>153309</td>\n",
       "      <td>UK</td>\n",
       "      <td>MI</td>\n",
       "      <td>CT</td>\n",
       "      <td>Hybrid</td>\n",
       "      <td>CN</td>\n",
       "      <td>L</td>\n",
       "    </tr>\n",
       "    <tr>\n",
       "      <th>3</th>\n",
       "      <td>2022</td>\n",
       "      <td>data_analyst</td>\n",
       "      <td>ML/AI</td>\n",
       "      <td>JPY</td>\n",
       "      <td>154130</td>\n",
       "      <td>135242</td>\n",
       "      <td>DE</td>\n",
       "      <td>SE</td>\n",
       "      <td>FT</td>\n",
       "      <td>Hybrid</td>\n",
       "      <td>MX</td>\n",
       "      <td>L</td>\n",
       "    </tr>\n",
       "    <tr>\n",
       "      <th>4</th>\n",
       "      <td>2020</td>\n",
       "      <td>statistician</td>\n",
       "      <td>Data Science</td>\n",
       "      <td>EUR</td>\n",
       "      <td>172312</td>\n",
       "      <td>35156</td>\n",
       "      <td>UK</td>\n",
       "      <td>MI</td>\n",
       "      <td>FT</td>\n",
       "      <td>In-person</td>\n",
       "      <td>UK</td>\n",
       "      <td>S</td>\n",
       "    </tr>\n",
       "    <tr>\n",
       "      <th>5</th>\n",
       "      <td>2020</td>\n",
       "      <td>machine_learning_engineer</td>\n",
       "      <td>Engineering</td>\n",
       "      <td>JPY</td>\n",
       "      <td>36544</td>\n",
       "      <td>68280</td>\n",
       "      <td>CN</td>\n",
       "      <td>MI</td>\n",
       "      <td>FT</td>\n",
       "      <td>Hybrid</td>\n",
       "      <td>DE</td>\n",
       "      <td>M</td>\n",
       "    </tr>\n",
       "    <tr>\n",
       "      <th>6</th>\n",
       "      <td>2022</td>\n",
       "      <td>data_analyst</td>\n",
       "      <td>Data Science</td>\n",
       "      <td>JPY</td>\n",
       "      <td>178404</td>\n",
       "      <td>105324</td>\n",
       "      <td>DE</td>\n",
       "      <td>EX</td>\n",
       "      <td>PT</td>\n",
       "      <td>Remote</td>\n",
       "      <td>DE</td>\n",
       "      <td>L</td>\n",
       "    </tr>\n",
       "    <tr>\n",
       "      <th>7</th>\n",
       "      <td>2021</td>\n",
       "      <td>data_scientist</td>\n",
       "      <td>ML/AI</td>\n",
       "      <td>JPY</td>\n",
       "      <td>187908</td>\n",
       "      <td>90706</td>\n",
       "      <td>UK</td>\n",
       "      <td>EX</td>\n",
       "      <td>CT</td>\n",
       "      <td>Remote</td>\n",
       "      <td>JP</td>\n",
       "      <td>M</td>\n",
       "    </tr>\n",
       "    <tr>\n",
       "      <th>8</th>\n",
       "      <td>2022</td>\n",
       "      <td>data_analyst</td>\n",
       "      <td>Data Science</td>\n",
       "      <td>NaN</td>\n",
       "      <td>-44388</td>\n",
       "      <td>171043</td>\n",
       "      <td>UK</td>\n",
       "      <td>NaN</td>\n",
       "      <td>FL</td>\n",
       "      <td>In-person</td>\n",
       "      <td>DE</td>\n",
       "      <td>NaN</td>\n",
       "    </tr>\n",
       "    <tr>\n",
       "      <th>9</th>\n",
       "      <td>2022</td>\n",
       "      <td>statistician</td>\n",
       "      <td>Engineering</td>\n",
       "      <td>us dolars</td>\n",
       "      <td>31694</td>\n",
       "      <td>73408</td>\n",
       "      <td>DE</td>\n",
       "      <td>EN</td>\n",
       "      <td>CT</td>\n",
       "      <td>Remote</td>\n",
       "      <td>US</td>\n",
       "      <td>S</td>\n",
       "    </tr>\n",
       "    <tr>\n",
       "      <th>10</th>\n",
       "      <td>2022</td>\n",
       "      <td>data_engineer</td>\n",
       "      <td>Data Science</td>\n",
       "      <td>us dolars</td>\n",
       "      <td>157727</td>\n",
       "      <td>167559</td>\n",
       "      <td>US</td>\n",
       "      <td>SE</td>\n",
       "      <td>FL</td>\n",
       "      <td>Hybrid</td>\n",
       "      <td>US</td>\n",
       "      <td>S</td>\n",
       "    </tr>\n",
       "    <tr>\n",
       "      <th>11</th>\n",
       "      <td>2022</td>\n",
       "      <td>data_scientist</td>\n",
       "      <td>Data Science</td>\n",
       "      <td>INR</td>\n",
       "      <td>118202</td>\n",
       "      <td>50997</td>\n",
       "      <td>MX</td>\n",
       "      <td>EX</td>\n",
       "      <td>FL</td>\n",
       "      <td>In-person</td>\n",
       "      <td>UK</td>\n",
       "      <td>M</td>\n",
       "    </tr>\n",
       "    <tr>\n",
       "      <th>12</th>\n",
       "      <td>2020</td>\n",
       "      <td>machine_learning_engineer</td>\n",
       "      <td>Analysis</td>\n",
       "      <td>NaN</td>\n",
       "      <td>143057</td>\n",
       "      <td>76456</td>\n",
       "      <td>MX</td>\n",
       "      <td>NaN</td>\n",
       "      <td>FL</td>\n",
       "      <td>In-person</td>\n",
       "      <td>DE</td>\n",
       "      <td>NaN</td>\n",
       "    </tr>\n",
       "    <tr>\n",
       "      <th>13</th>\n",
       "      <td>2022</td>\n",
       "      <td>statistician</td>\n",
       "      <td>Engineering</td>\n",
       "      <td>us dolars</td>\n",
       "      <td>79294</td>\n",
       "      <td>160865</td>\n",
       "      <td>JP</td>\n",
       "      <td>EN</td>\n",
       "      <td>CT</td>\n",
       "      <td>In-person</td>\n",
       "      <td>JP</td>\n",
       "      <td>M</td>\n",
       "    </tr>\n",
       "    <tr>\n",
       "      <th>14</th>\n",
       "      <td>2021</td>\n",
       "      <td>data_engineer</td>\n",
       "      <td>Analysis</td>\n",
       "      <td>JPY</td>\n",
       "      <td>68769</td>\n",
       "      <td>107988</td>\n",
       "      <td>JP</td>\n",
       "      <td>EN</td>\n",
       "      <td>FT</td>\n",
       "      <td>Hybrid</td>\n",
       "      <td>CN</td>\n",
       "      <td>M</td>\n",
       "    </tr>\n",
       "  </tbody>\n",
       "</table>\n",
       "</div>"
      ],
      "text/plain": [
       "    work_year                  job_title  job_category salary_currency  \\\n",
       "0        2022  machine_learning_engineer      Analysis             EUR   \n",
       "1        2020               statistician         ML/AI             JPY   \n",
       "2        2022  machine_learning_engineer         ML/AI             INR   \n",
       "3        2022               data_analyst         ML/AI             JPY   \n",
       "4        2020               statistician  Data Science             EUR   \n",
       "5        2020  machine_learning_engineer   Engineering             JPY   \n",
       "6        2022               data_analyst  Data Science             JPY   \n",
       "7        2021             data_scientist         ML/AI             JPY   \n",
       "8        2022               data_analyst  Data Science             NaN   \n",
       "9        2022               statistician   Engineering       us dolars   \n",
       "10       2022              data_engineer  Data Science       us dolars   \n",
       "11       2022             data_scientist  Data Science             INR   \n",
       "12       2020  machine_learning_engineer      Analysis             NaN   \n",
       "13       2022               statistician   Engineering       us dolars   \n",
       "14       2021              data_engineer      Analysis             JPY   \n",
       "\n",
       "    salary  salary_in_usd employee_residence experience_level employment_type  \\\n",
       "0   186597         136086                 US               MI              CT   \n",
       "1   110630          67982                 JP               EX              FL   \n",
       "2    61280         153309                 UK               MI              CT   \n",
       "3   154130         135242                 DE               SE              FT   \n",
       "4   172312          35156                 UK               MI              FT   \n",
       "5    36544          68280                 CN               MI              FT   \n",
       "6   178404         105324                 DE               EX              PT   \n",
       "7   187908          90706                 UK               EX              CT   \n",
       "8   -44388         171043                 UK              NaN              FL   \n",
       "9    31694          73408                 DE               EN              CT   \n",
       "10  157727         167559                 US               SE              FL   \n",
       "11  118202          50997                 MX               EX              FL   \n",
       "12  143057          76456                 MX              NaN              FL   \n",
       "13   79294         160865                 JP               EN              CT   \n",
       "14   68769         107988                 JP               EN              FT   \n",
       "\n",
       "   work_setting company_location company_size  \n",
       "0        Remote               DE            L  \n",
       "1        Remote               IN            M  \n",
       "2        Hybrid               CN            L  \n",
       "3        Hybrid               MX            L  \n",
       "4     In-person               UK            S  \n",
       "5        Hybrid               DE            M  \n",
       "6        Remote               DE            L  \n",
       "7        Remote               JP            M  \n",
       "8     In-person               DE          NaN  \n",
       "9        Remote               US            S  \n",
       "10       Hybrid               US            S  \n",
       "11    In-person               UK            M  \n",
       "12    In-person               DE          NaN  \n",
       "13    In-person               JP            M  \n",
       "14       Hybrid               CN            M  "
      ]
     },
     "execution_count": 18,
     "metadata": {},
     "output_type": "execute_result"
    }
   ],
   "source": [
    "data.head(15)"
   ]
  },
  {
   "cell_type": "markdown",
   "metadata": {},
   "source": [
    "Nulos substituidos pela moda."
   ]
  },
  {
   "cell_type": "markdown",
   "metadata": {},
   "source": [
    "____"
   ]
  },
  {
   "cell_type": "markdown",
   "metadata": {},
   "source": [
    "Para este projeto, saber em que moeda foi feito o pagamento não é um dos focos da análise, apenas saber o quanto foi pago em dólares importa. Contudo, removeremos as colunas que indicam o salário sem ser em dólar, e a coluna que indica o tipo de moeda em que foi pago."
   ]
  },
  {
   "cell_type": "code",
   "execution_count": 19,
   "metadata": {},
   "outputs": [],
   "source": [
    "data = data.drop(columns=['salary_currency', 'salary'])"
   ]
  },
  {
   "cell_type": "markdown",
   "metadata": {},
   "source": [
    "____"
   ]
  },
  {
   "cell_type": "markdown",
   "metadata": {},
   "source": [
    "### Colunas Localização da Empresa e Residencia Para o Cargo"
   ]
  },
  {
   "cell_type": "code",
   "execution_count": 20,
   "metadata": {},
   "outputs": [],
   "source": [
    "# substituindo siglas pelo nome do pais\n",
    "data.company_location = data.company_location.str.replace('UK', 'reino unido').str.replace('DE', 'alemanha').str.replace('MX', 'mexico').str.replace('IN', 'india').str.replace('CN', 'china').str.replace('US', 'estados unidos').str.replace('JP', 'japao')\n",
    "\n",
    "# substituindo siglas da coluna de residência do empregado\n",
    "data.employee_residence = data.employee_residence.str.replace('UK', 'reino unido').str.replace('DE', 'alemanha').str.replace('MX', 'mexico').str.replace('IN', 'india').str.replace('CN', 'china').str.replace('US', 'estados unidos').str.replace('JP', 'japao')"
   ]
  },
  {
   "cell_type": "code",
   "execution_count": 21,
   "metadata": {},
   "outputs": [
    {
     "data": {
      "text/plain": [
       "0"
      ]
     },
     "execution_count": 21,
     "metadata": {},
     "output_type": "execute_result"
    }
   ],
   "source": [
    "data.company_location.isnull().sum()"
   ]
  },
  {
   "cell_type": "markdown",
   "metadata": {},
   "source": [
    "Nenhum valor nulo para as localizações das empresas."
   ]
  },
  {
   "cell_type": "code",
   "execution_count": 22,
   "metadata": {},
   "outputs": [
    {
     "data": {
      "text/plain": [
       "employee_residence\n",
       "japao             783\n",
       "india             741\n",
       "estados unidos    721\n",
       "alemanha          706\n",
       "mexico            705\n",
       "china             674\n",
       "reino unido       670\n",
       "Name: count, dtype: int64"
      ]
     },
     "execution_count": 22,
     "metadata": {},
     "output_type": "execute_result"
    }
   ],
   "source": [
    "# analizando residência para o cargo\n",
    "data.employee_residence.value_counts()"
   ]
  },
  {
   "cell_type": "code",
   "execution_count": 23,
   "metadata": {},
   "outputs": [
    {
     "data": {
      "text/plain": [
       "0"
      ]
     },
     "execution_count": 23,
     "metadata": {},
     "output_type": "execute_result"
    }
   ],
   "source": [
    "data.employee_residence.isnull().sum()"
   ]
  },
  {
   "cell_type": "markdown",
   "metadata": {},
   "source": [
    "____"
   ]
  },
  {
   "cell_type": "markdown",
   "metadata": {},
   "source": [
    "### Coluna Nível de Experiência"
   ]
  },
  {
   "cell_type": "code",
   "execution_count": 24,
   "metadata": {},
   "outputs": [
    {
     "data": {
      "text/plain": [
       "experience_level\n",
       "SE    1154\n",
       "EX    1119\n",
       "EN    1115\n",
       "MI    1112\n",
       "Name: count, dtype: int64"
      ]
     },
     "execution_count": 24,
     "metadata": {},
     "output_type": "execute_result"
    }
   ],
   "source": [
    "# analisando coluna de nível de experiência\n",
    "data.experience_level.value_counts()"
   ]
  },
  {
   "cell_type": "markdown",
   "metadata": {},
   "source": [
    "Para ficar mais claro os níveis de experiência, vamos renomea-las."
   ]
  },
  {
   "cell_type": "code",
   "execution_count": 25,
   "metadata": {},
   "outputs": [],
   "source": [
    "# renomeando categorias de experência\n",
    "data.experience_level = data.experience_level.str.replace('SE', 'senior').str.replace('EX', 'executivo').str.replace('EN', 'junior').str.replace('MI', 'pleno')"
   ]
  },
  {
   "cell_type": "code",
   "execution_count": 26,
   "metadata": {},
   "outputs": [
    {
     "data": {
      "text/plain": [
       "500"
      ]
     },
     "execution_count": 26,
     "metadata": {},
     "output_type": "execute_result"
    }
   ],
   "source": [
    "data.experience_level.isnull().sum()"
   ]
  },
  {
   "cell_type": "markdown",
   "metadata": {},
   "source": [
    "Esses 500 valores nulos, podem ser interpretados como \"Não exige nível de experiência\", logo substituiremos esse nulos."
   ]
  },
  {
   "cell_type": "code",
   "execution_count": 27,
   "metadata": {},
   "outputs": [],
   "source": [
    "data.experience_level.fillna('sem_exp', inplace=True)"
   ]
  },
  {
   "cell_type": "markdown",
   "metadata": {},
   "source": [
    "____"
   ]
  },
  {
   "cell_type": "markdown",
   "metadata": {},
   "source": [
    "### Coluna Tipo de Trabalho"
   ]
  },
  {
   "cell_type": "code",
   "execution_count": 28,
   "metadata": {},
   "outputs": [
    {
     "data": {
      "text/plain": [
       "employment_type\n",
       "PT    1268\n",
       "FL    1263\n",
       "FT    1245\n",
       "CT    1224\n",
       "Name: count, dtype: int64"
      ]
     },
     "execution_count": 28,
     "metadata": {},
     "output_type": "execute_result"
    }
   ],
   "source": [
    "# analisando coluna employment_type\n",
    "data.employment_type.value_counts()"
   ]
  },
  {
   "cell_type": "markdown",
   "metadata": {},
   "source": [
    "Primeiramente para deixar mais fácil o entendimento de cada categoria, vamos traduzi-las com seu significado sem ser por sigla."
   ]
  },
  {
   "cell_type": "code",
   "execution_count": 29,
   "metadata": {},
   "outputs": [],
   "source": [
    "data.employment_type = data.employment_type.str.replace('PT', 'meio_periodo').str.replace('FL', 'freelancer').str.replace('FT', 'tempo_integral').str.replace('CT', 'temporario')"
   ]
  },
  {
   "cell_type": "code",
   "execution_count": 30,
   "metadata": {},
   "outputs": [
    {
     "data": {
      "text/plain": [
       "0"
      ]
     },
     "execution_count": 30,
     "metadata": {},
     "output_type": "execute_result"
    }
   ],
   "source": [
    "data.employment_type.isnull().sum()"
   ]
  },
  {
   "cell_type": "markdown",
   "metadata": {},
   "source": [
    "Não há valores nulos no tipo de emprego."
   ]
  },
  {
   "cell_type": "markdown",
   "metadata": {},
   "source": [
    "____"
   ]
  },
  {
   "cell_type": "markdown",
   "metadata": {},
   "source": [
    "### Analisando coluna de Modelo de Trabalho"
   ]
  },
  {
   "cell_type": "code",
   "execution_count": 31,
   "metadata": {},
   "outputs": [
    {
     "data": {
      "text/plain": [
       "work_setting\n",
       "Hybrid       1721\n",
       "In-person    1658\n",
       "Remote       1621\n",
       "Name: count, dtype: int64"
      ]
     },
     "execution_count": 31,
     "metadata": {},
     "output_type": "execute_result"
    }
   ],
   "source": [
    "# analisando coluna de modelo de trabalho\n",
    "data.work_setting.value_counts()"
   ]
  },
  {
   "cell_type": "code",
   "execution_count": 32,
   "metadata": {},
   "outputs": [],
   "source": [
    "# traduzindo valores\n",
    "data.work_setting = data.work_setting.str.replace('Hybrid', 'hibrido').str.replace('In-person', 'presencial').str.replace('Remote', 'remoto')"
   ]
  },
  {
   "cell_type": "code",
   "execution_count": 33,
   "metadata": {},
   "outputs": [
    {
     "data": {
      "text/plain": [
       "0"
      ]
     },
     "execution_count": 33,
     "metadata": {},
     "output_type": "execute_result"
    }
   ],
   "source": [
    "data.work_setting.isnull().sum()"
   ]
  },
  {
   "cell_type": "markdown",
   "metadata": {},
   "source": [
    "Esta coluna também não apresenta valores nulos."
   ]
  },
  {
   "cell_type": "code",
   "execution_count": 34,
   "metadata": {},
   "outputs": [
    {
     "data": {
      "text/html": [
       "<div>\n",
       "<style scoped>\n",
       "    .dataframe tbody tr th:only-of-type {\n",
       "        vertical-align: middle;\n",
       "    }\n",
       "\n",
       "    .dataframe tbody tr th {\n",
       "        vertical-align: top;\n",
       "    }\n",
       "\n",
       "    .dataframe thead th {\n",
       "        text-align: right;\n",
       "    }\n",
       "</style>\n",
       "<table border=\"1\" class=\"dataframe\">\n",
       "  <thead>\n",
       "    <tr style=\"text-align: right;\">\n",
       "      <th></th>\n",
       "      <th>work_year</th>\n",
       "      <th>job_title</th>\n",
       "      <th>job_category</th>\n",
       "      <th>salary_in_usd</th>\n",
       "      <th>employee_residence</th>\n",
       "      <th>experience_level</th>\n",
       "      <th>employment_type</th>\n",
       "      <th>work_setting</th>\n",
       "      <th>company_location</th>\n",
       "      <th>company_size</th>\n",
       "    </tr>\n",
       "  </thead>\n",
       "  <tbody>\n",
       "    <tr>\n",
       "      <th>0</th>\n",
       "      <td>2022</td>\n",
       "      <td>machine_learning_engineer</td>\n",
       "      <td>Analysis</td>\n",
       "      <td>136086</td>\n",
       "      <td>estados unidos</td>\n",
       "      <td>pleno</td>\n",
       "      <td>temporario</td>\n",
       "      <td>remoto</td>\n",
       "      <td>alemanha</td>\n",
       "      <td>L</td>\n",
       "    </tr>\n",
       "  </tbody>\n",
       "</table>\n",
       "</div>"
      ],
      "text/plain": [
       "   work_year                  job_title job_category  salary_in_usd  \\\n",
       "0       2022  machine_learning_engineer     Analysis         136086   \n",
       "\n",
       "  employee_residence experience_level employment_type work_setting  \\\n",
       "0     estados unidos            pleno      temporario       remoto   \n",
       "\n",
       "  company_location company_size  \n",
       "0         alemanha            L  "
      ]
     },
     "execution_count": 34,
     "metadata": {},
     "output_type": "execute_result"
    }
   ],
   "source": [
    "data.head(1)"
   ]
  },
  {
   "cell_type": "markdown",
   "metadata": {},
   "source": [
    "____"
   ]
  },
  {
   "cell_type": "markdown",
   "metadata": {},
   "source": [
    "### Analisando Localização da Empresa"
   ]
  },
  {
   "cell_type": "code",
   "execution_count": 35,
   "metadata": {},
   "outputs": [
    {
     "data": {
      "text/plain": [
       "company_location\n",
       "reino unido       789\n",
       "alemanha          726\n",
       "mexico            713\n",
       "india             708\n",
       "china             697\n",
       "estados unidos    684\n",
       "japao             683\n",
       "Name: count, dtype: int64"
      ]
     },
     "execution_count": 35,
     "metadata": {},
     "output_type": "execute_result"
    }
   ],
   "source": [
    "# analisando localização da empresa\n",
    "data.company_location.value_counts()"
   ]
  },
  {
   "cell_type": "code",
   "execution_count": 36,
   "metadata": {},
   "outputs": [
    {
     "data": {
      "text/plain": [
       "0"
      ]
     },
     "execution_count": 36,
     "metadata": {},
     "output_type": "execute_result"
    }
   ],
   "source": [
    "data.company_location.isnull().sum()"
   ]
  },
  {
   "cell_type": "markdown",
   "metadata": {},
   "source": [
    "____"
   ]
  },
  {
   "cell_type": "markdown",
   "metadata": {},
   "source": [
    "#### Analisando Tamanho da Empresa"
   ]
  },
  {
   "cell_type": "code",
   "execution_count": 37,
   "metadata": {},
   "outputs": [
    {
     "data": {
      "text/plain": [
       "company_size\n",
       "S    1519\n",
       "M    1517\n",
       "L    1464\n",
       "Name: count, dtype: int64"
      ]
     },
     "execution_count": 37,
     "metadata": {},
     "output_type": "execute_result"
    }
   ],
   "source": [
    "# analizando tamanho da empresa\n",
    "data.company_size.value_counts()"
   ]
  },
  {
   "cell_type": "code",
   "execution_count": 38,
   "metadata": {},
   "outputs": [],
   "source": [
    "# traduzindo categorias\n",
    "data.company_size = data.company_size.str.replace('S', 'pequena').str.replace('M', 'media').str.replace('L', 'grande')"
   ]
  },
  {
   "cell_type": "code",
   "execution_count": 39,
   "metadata": {},
   "outputs": [
    {
     "data": {
      "text/plain": [
       "500"
      ]
     },
     "execution_count": 39,
     "metadata": {},
     "output_type": "execute_result"
    }
   ],
   "source": [
    "data.company_size.isnull().sum()"
   ]
  },
  {
   "cell_type": "markdown",
   "metadata": {},
   "source": [
    "Para imputar os valores nulos das empresas, precisaremos antes ver quais outras colunas possuem correlção com o tamanho da empresa. Depois disso, conseguiremos utilizar a moda condicional para cada grupo de empresas."
   ]
  },
  {
   "cell_type": "code",
   "execution_count": 40,
   "metadata": {},
   "outputs": [
    {
     "data": {
      "text/html": [
       "<div>\n",
       "<style scoped>\n",
       "    .dataframe tbody tr th:only-of-type {\n",
       "        vertical-align: middle;\n",
       "    }\n",
       "\n",
       "    .dataframe tbody tr th {\n",
       "        vertical-align: top;\n",
       "    }\n",
       "\n",
       "    .dataframe thead th {\n",
       "        text-align: right;\n",
       "    }\n",
       "</style>\n",
       "<table border=\"1\" class=\"dataframe\">\n",
       "  <thead>\n",
       "    <tr style=\"text-align: right;\">\n",
       "      <th></th>\n",
       "      <th>work_year</th>\n",
       "      <th>job_title</th>\n",
       "      <th>job_category</th>\n",
       "      <th>salary_in_usd</th>\n",
       "      <th>employee_residence</th>\n",
       "      <th>experience_level</th>\n",
       "      <th>employment_type</th>\n",
       "      <th>work_setting</th>\n",
       "      <th>company_location</th>\n",
       "      <th>company_size</th>\n",
       "    </tr>\n",
       "  </thead>\n",
       "  <tbody>\n",
       "    <tr>\n",
       "      <th>0</th>\n",
       "      <td>2022</td>\n",
       "      <td>machine_learning_engineer</td>\n",
       "      <td>Analysis</td>\n",
       "      <td>136086</td>\n",
       "      <td>estados unidos</td>\n",
       "      <td>pleno</td>\n",
       "      <td>temporario</td>\n",
       "      <td>remoto</td>\n",
       "      <td>alemanha</td>\n",
       "      <td>grande</td>\n",
       "    </tr>\n",
       "    <tr>\n",
       "      <th>1</th>\n",
       "      <td>2020</td>\n",
       "      <td>statistician</td>\n",
       "      <td>ML/AI</td>\n",
       "      <td>67982</td>\n",
       "      <td>japao</td>\n",
       "      <td>executivo</td>\n",
       "      <td>freelancer</td>\n",
       "      <td>remoto</td>\n",
       "      <td>india</td>\n",
       "      <td>media</td>\n",
       "    </tr>\n",
       "    <tr>\n",
       "      <th>2</th>\n",
       "      <td>2022</td>\n",
       "      <td>machine_learning_engineer</td>\n",
       "      <td>ML/AI</td>\n",
       "      <td>153309</td>\n",
       "      <td>reino unido</td>\n",
       "      <td>pleno</td>\n",
       "      <td>temporario</td>\n",
       "      <td>hibrido</td>\n",
       "      <td>china</td>\n",
       "      <td>grande</td>\n",
       "    </tr>\n",
       "    <tr>\n",
       "      <th>3</th>\n",
       "      <td>2022</td>\n",
       "      <td>data_analyst</td>\n",
       "      <td>ML/AI</td>\n",
       "      <td>135242</td>\n",
       "      <td>alemanha</td>\n",
       "      <td>senior</td>\n",
       "      <td>tempo_integral</td>\n",
       "      <td>hibrido</td>\n",
       "      <td>mexico</td>\n",
       "      <td>grande</td>\n",
       "    </tr>\n",
       "    <tr>\n",
       "      <th>4</th>\n",
       "      <td>2020</td>\n",
       "      <td>statistician</td>\n",
       "      <td>Data Science</td>\n",
       "      <td>35156</td>\n",
       "      <td>reino unido</td>\n",
       "      <td>pleno</td>\n",
       "      <td>tempo_integral</td>\n",
       "      <td>presencial</td>\n",
       "      <td>reino unido</td>\n",
       "      <td>pequena</td>\n",
       "    </tr>\n",
       "    <tr>\n",
       "      <th>...</th>\n",
       "      <td>...</td>\n",
       "      <td>...</td>\n",
       "      <td>...</td>\n",
       "      <td>...</td>\n",
       "      <td>...</td>\n",
       "      <td>...</td>\n",
       "      <td>...</td>\n",
       "      <td>...</td>\n",
       "      <td>...</td>\n",
       "      <td>...</td>\n",
       "    </tr>\n",
       "    <tr>\n",
       "      <th>4995</th>\n",
       "      <td>2020</td>\n",
       "      <td>machine_learning_engineer</td>\n",
       "      <td>Analysis</td>\n",
       "      <td>179111</td>\n",
       "      <td>reino unido</td>\n",
       "      <td>sem_exp</td>\n",
       "      <td>temporario</td>\n",
       "      <td>presencial</td>\n",
       "      <td>india</td>\n",
       "      <td>NaN</td>\n",
       "    </tr>\n",
       "    <tr>\n",
       "      <th>4996</th>\n",
       "      <td>2021</td>\n",
       "      <td>machine_learning_engineer</td>\n",
       "      <td>Analysis</td>\n",
       "      <td>196373</td>\n",
       "      <td>china</td>\n",
       "      <td>sem_exp</td>\n",
       "      <td>freelancer</td>\n",
       "      <td>remoto</td>\n",
       "      <td>reino unido</td>\n",
       "      <td>NaN</td>\n",
       "    </tr>\n",
       "    <tr>\n",
       "      <th>4997</th>\n",
       "      <td>2022</td>\n",
       "      <td>machine_learning_engineer</td>\n",
       "      <td>Analysis</td>\n",
       "      <td>51366</td>\n",
       "      <td>reino unido</td>\n",
       "      <td>junior</td>\n",
       "      <td>freelancer</td>\n",
       "      <td>hibrido</td>\n",
       "      <td>japao</td>\n",
       "      <td>media</td>\n",
       "    </tr>\n",
       "    <tr>\n",
       "      <th>4998</th>\n",
       "      <td>2021</td>\n",
       "      <td>statistician</td>\n",
       "      <td>Data Science</td>\n",
       "      <td>181817</td>\n",
       "      <td>estados unidos</td>\n",
       "      <td>pleno</td>\n",
       "      <td>meio_periodo</td>\n",
       "      <td>remoto</td>\n",
       "      <td>alemanha</td>\n",
       "      <td>pequena</td>\n",
       "    </tr>\n",
       "    <tr>\n",
       "      <th>4999</th>\n",
       "      <td>2020</td>\n",
       "      <td>data_scientist</td>\n",
       "      <td>Engineering</td>\n",
       "      <td>172425</td>\n",
       "      <td>china</td>\n",
       "      <td>executivo</td>\n",
       "      <td>temporario</td>\n",
       "      <td>remoto</td>\n",
       "      <td>china</td>\n",
       "      <td>grande</td>\n",
       "    </tr>\n",
       "  </tbody>\n",
       "</table>\n",
       "<p>5000 rows × 10 columns</p>\n",
       "</div>"
      ],
      "text/plain": [
       "      work_year                  job_title  job_category  salary_in_usd  \\\n",
       "0          2022  machine_learning_engineer      Analysis         136086   \n",
       "1          2020               statistician         ML/AI          67982   \n",
       "2          2022  machine_learning_engineer         ML/AI         153309   \n",
       "3          2022               data_analyst         ML/AI         135242   \n",
       "4          2020               statistician  Data Science          35156   \n",
       "...         ...                        ...           ...            ...   \n",
       "4995       2020  machine_learning_engineer      Analysis         179111   \n",
       "4996       2021  machine_learning_engineer      Analysis         196373   \n",
       "4997       2022  machine_learning_engineer      Analysis          51366   \n",
       "4998       2021               statistician  Data Science         181817   \n",
       "4999       2020             data_scientist   Engineering         172425   \n",
       "\n",
       "     employee_residence experience_level employment_type work_setting  \\\n",
       "0        estados unidos            pleno      temporario       remoto   \n",
       "1                 japao        executivo      freelancer       remoto   \n",
       "2           reino unido            pleno      temporario      hibrido   \n",
       "3              alemanha           senior  tempo_integral      hibrido   \n",
       "4           reino unido            pleno  tempo_integral   presencial   \n",
       "...                 ...              ...             ...          ...   \n",
       "4995        reino unido          sem_exp      temporario   presencial   \n",
       "4996              china          sem_exp      freelancer       remoto   \n",
       "4997        reino unido           junior      freelancer      hibrido   \n",
       "4998     estados unidos            pleno    meio_periodo       remoto   \n",
       "4999              china        executivo      temporario       remoto   \n",
       "\n",
       "     company_location company_size  \n",
       "0            alemanha       grande  \n",
       "1               india        media  \n",
       "2               china       grande  \n",
       "3              mexico       grande  \n",
       "4         reino unido      pequena  \n",
       "...               ...          ...  \n",
       "4995            india          NaN  \n",
       "4996      reino unido          NaN  \n",
       "4997            japao        media  \n",
       "4998         alemanha      pequena  \n",
       "4999            china       grande  \n",
       "\n",
       "[5000 rows x 10 columns]"
      ]
     },
     "execution_count": 40,
     "metadata": {},
     "output_type": "execute_result"
    }
   ],
   "source": [
    "data"
   ]
  },
  {
   "cell_type": "code",
   "execution_count": 41,
   "metadata": {},
   "outputs": [
    {
     "data": {
      "text/plain": [
       "company_size\n",
       "pequena    1519\n",
       "media      1517\n",
       "grande     1464\n",
       "Name: count, dtype: int64"
      ]
     },
     "execution_count": 41,
     "metadata": {},
     "output_type": "execute_result"
    }
   ],
   "source": [
    "data.company_size.value_counts()"
   ]
  },
  {
   "cell_type": "code",
   "execution_count": 42,
   "metadata": {},
   "outputs": [
    {
     "name": "stdout",
     "output_type": "stream",
     "text": [
      "Média de salários pagos por empresas grandes: company_size\n",
      "grande    114895.802596\n",
      "Name: salary_in_usd, dtype: float64\n",
      "_\n",
      "Média de salários pagos por empresas médias: company_size\n",
      "media    113401.736981\n",
      "Name: salary_in_usd, dtype: float64\n",
      "_\n",
      "Média de salários pagos por empresas pequenas: company_size\n",
      "pequena    113011.419355\n",
      "Name: salary_in_usd, dtype: float64\n"
     ]
    }
   ],
   "source": [
    "print(f'Média de salários pagos por empresas grandes: {data[data[\"company_size\"] == \"grande\"].groupby(\"company_size\")[\"salary_in_usd\"].mean()}')\n",
    "print('_')\n",
    "print(f'Média de salários pagos por empresas médias: {data[data[\"company_size\"] == \"media\"].groupby(\"company_size\")[\"salary_in_usd\"].mean()}')\n",
    "print('_')\n",
    "print(f'Média de salários pagos por empresas pequenas: {data[data[\"company_size\"] == \"pequena\"].groupby(\"company_size\")[\"salary_in_usd\"].mean()}')"
   ]
  },
  {
   "cell_type": "markdown",
   "metadata": {},
   "source": [
    "A média de salário pago parece não variar muito de acordo com o tamanho da empresa, logo não parece ser uma boa métrica para usarmos na substituição dos valores nulos. \n",
    "\n",
    "Para cada empresa que não tiver o tamanho registrado, utilizaremos a moda do tamanho das empresas do seu país, e para vermos melhor, segue o gráfico:"
   ]
  },
  {
   "cell_type": "code",
   "execution_count": 43,
   "metadata": {},
   "outputs": [
    {
     "data": {
      "image/png": "[encoded data removed]",
      "text/plain": [
       "<Figure size 1300x900 with 1 Axes>"
      ]
     },
     "metadata": {},
     "output_type": "display_data"
    }
   ],
   "source": [
    "plt.figure(figsize=(13,9))\n",
    "img = mpimg.imread(os.getcwd().replace('code', 'docs')+'\\\\tamanho_empresas.png')\n",
    "plt.imshow(img)\n",
    "plt.axis('off')\n",
    "plt.show()"
   ]
  },
  {
   "cell_type": "markdown",
   "metadata": {},
   "source": [
    "**Reino Unido** - Empresas de tamanho médio.\n",
    "\n",
    "**Alemanha** - Pequenas Empresas.\n",
    "\n",
    "**China** - Grandes e médias.\n",
    "\n",
    "**India** - Grandes.\n",
    "\n",
    "**México** - Pequenas.\n",
    "\n",
    "**Estados Unidos** - Médias.\n",
    "\n",
    "**Japão** - Grandes.\n"
   ]
  },
  {
   "cell_type": "code",
   "execution_count": 44,
   "metadata": {},
   "outputs": [],
   "source": [
    "# calcula a moda do tamanho da empresa por pais\n",
    "moda_pais = data.groupby('company_location')['company_size'].apply(lambda x: x.mode().iloc[0] if not x.mode().empty else None)\n",
    "\n",
    "# atribuindo valores nulos do tamanho das empresas\n",
    "data['company_size'] = data.apply(\n",
    "    lambda row: moda_pais[row['company_location']] if pd.isnull(row['company_size']) else row['company_size'], axis=1\n",
    ")"
   ]
  },
  {
   "cell_type": "markdown",
   "metadata": {},
   "source": [
    "____"
   ]
  },
  {
   "cell_type": "code",
   "execution_count": 45,
   "metadata": {},
   "outputs": [],
   "source": [
    "# exportando dataset\n",
    "path = 'c:\\\\Users\\\\God\\\\Desktop\\\\DieGod\\\\Projetos\\\\Data_Science_Job_Analysis\\\\data\\\\processed\\\\data2.csv'\n",
    "data.to_csv(path, index=False)"
   ]
  },
  {
   "cell_type": "markdown",
   "metadata": {},
   "source": [
    "____"
   ]
  },
  {
   "cell_type": "code",
   "execution_count": null,
   "metadata": {},
   "outputs": [],
   "source": []
  }
 ],
 "metadata": {
  "kernelspec": {
   "display_name": "Python 3",
   "language": "python",
   "name": "python3"
  },
  "language_info": {
   "codemirror_mode": {
    "name": "ipython",
    "version": 3
   },
   "file_extension": ".py",
   "mimetype": "text/x-python",
   "name": "python",
   "nbconvert_exporter": "python",
   "pygments_lexer": "ipython3",
   "version": "3.11.2"
  }
 },
 "nbformat": 4,
 "nbformat_minor": 2
}
