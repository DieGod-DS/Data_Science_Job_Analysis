{
 "cells": [
  {
   "cell_type": "markdown",
   "metadata": {},
   "source": [
    "# Entendimento de Negócio\n",
    "\n",
    "O mercado de Ciência de Dados está em contante crescimento, é uma área relativamente nova e muitas muito requisitada por qualquer tipo de negócio. Com essa crescente na demanda de funcionários para o cargo, muitas pessoas acabaram migrando para área de dados seduzidos pela sua grante quantidade de benefícios.\n",
    "\n",
    "Este projeto visa analisar dados e possiveis tendências para vagas de trabalho em Ciência de Dados. Os dados aqui utilizados foram fornecidos pelo Kaggle e contêm campos essenciais para a análise, como cargo, empresa, local da empresa, faixa salarial etc...\n",
    "\n",
    "**Questões a serem resolvidas:**\n",
    "- Análise de Tendências: Examinaremos as tendências na demanda por várias habilidades em funções de ciência de dados.\n",
    "- Análise de Salários: Compararemos faixas salariais para cargos de ciência de dados em empresas e locais.\n",
    "- Análise de Localização: Identificaremos regiões com alta demanda por profissionais de ciência de dados.\n",
    "- Análise de Lacuna de Habilidades: Determinaremos as habilidades mais procuradas no setor de ciência de dados.\n",
    "\n",
    "Para este projeto utilizaremos Python e suas biblitecas para limpeza e transformação dos dados, e o Power BI para visualização dos dados."
   ]
  },
  {
   "cell_type": "markdown",
   "metadata": {},
   "source": [
    "____"
   ]
  },
  {
   "cell_type": "markdown",
   "metadata": {},
   "source": [
    "# Entendimento dos Dados"
   ]
  },
  {
   "cell_type": "code",
   "execution_count": 1,
   "metadata": {},
   "outputs": [],
   "source": [
    "# importando biliotecas\n",
    "import os\n",
    "import warnings\n",
    "import numpy as np\n",
    "import pandas as pd\n",
    "import matplotlib.pyplot as plt\n",
    "\n",
    "warnings.filterwarnings('ignore')"
   ]
  },
  {
   "cell_type": "code",
   "execution_count": 2,
   "metadata": {},
   "outputs": [],
   "source": [
    "# importando os dados\n",
    "data = pd.read_csv(os.getcwd().replace('code', 'data')+'\\\\raw\\\\data_science_job.csv')"
   ]
  },
  {
   "cell_type": "code",
   "execution_count": 3,
   "metadata": {},
   "outputs": [
    {
     "data": {
      "text/html": [
       "<div>\n",
       "<style scoped>\n",
       "    .dataframe tbody tr th:only-of-type {\n",
       "        vertical-align: middle;\n",
       "    }\n",
       "\n",
       "    .dataframe tbody tr th {\n",
       "        vertical-align: top;\n",
       "    }\n",
       "\n",
       "    .dataframe thead th {\n",
       "        text-align: right;\n",
       "    }\n",
       "</style>\n",
       "<table border=\"1\" class=\"dataframe\">\n",
       "  <thead>\n",
       "    <tr style=\"text-align: right;\">\n",
       "      <th></th>\n",
       "      <th>work_year</th>\n",
       "      <th>job_title</th>\n",
       "      <th>job_category</th>\n",
       "      <th>salary_currency</th>\n",
       "      <th>salary</th>\n",
       "      <th>salary_in_usd</th>\n",
       "      <th>employee_residence</th>\n",
       "      <th>experience_level</th>\n",
       "      <th>employment_type</th>\n",
       "      <th>work_setting</th>\n",
       "      <th>company_location</th>\n",
       "      <th>company_size</th>\n",
       "    </tr>\n",
       "  </thead>\n",
       "  <tbody>\n",
       "    <tr>\n",
       "      <th>0</th>\n",
       "      <td>2022</td>\n",
       "      <td>Machine Learning Engineer  in office</td>\n",
       "      <td>Analysis</td>\n",
       "      <td>EUR</td>\n",
       "      <td>186597</td>\n",
       "      <td>136086</td>\n",
       "      <td>US</td>\n",
       "      <td>MI</td>\n",
       "      <td>CT</td>\n",
       "      <td>Remote</td>\n",
       "      <td>DE</td>\n",
       "      <td>L</td>\n",
       "    </tr>\n",
       "    <tr>\n",
       "      <th>1</th>\n",
       "      <td>2020</td>\n",
       "      <td>Statistician  (Remote)</td>\n",
       "      <td>ML/AI</td>\n",
       "      <td>JPY</td>\n",
       "      <td>110630</td>\n",
       "      <td>67982</td>\n",
       "      <td>JP</td>\n",
       "      <td>EX</td>\n",
       "      <td>FL</td>\n",
       "      <td>Remote</td>\n",
       "      <td>IN</td>\n",
       "      <td>M</td>\n",
       "    </tr>\n",
       "    <tr>\n",
       "      <th>2</th>\n",
       "      <td>2022</td>\n",
       "      <td>Machine Learning Engineer</td>\n",
       "      <td>ML/AI</td>\n",
       "      <td>INR</td>\n",
       "      <td>61280</td>\n",
       "      <td>153309</td>\n",
       "      <td>UK</td>\n",
       "      <td>MI</td>\n",
       "      <td>CT</td>\n",
       "      <td>Hybrid</td>\n",
       "      <td>CN</td>\n",
       "      <td>L</td>\n",
       "    </tr>\n",
       "    <tr>\n",
       "      <th>3</th>\n",
       "      <td>2022</td>\n",
       "      <td>Data Analyst  in office</td>\n",
       "      <td>ML/AI</td>\n",
       "      <td>JPY</td>\n",
       "      <td>154130</td>\n",
       "      <td>135242</td>\n",
       "      <td>DE</td>\n",
       "      <td>SE</td>\n",
       "      <td>FT</td>\n",
       "      <td>Hybrid</td>\n",
       "      <td>MX</td>\n",
       "      <td>L</td>\n",
       "    </tr>\n",
       "    <tr>\n",
       "      <th>4</th>\n",
       "      <td>2020</td>\n",
       "      <td>Statistician</td>\n",
       "      <td>Data Science</td>\n",
       "      <td>EUR</td>\n",
       "      <td>172312</td>\n",
       "      <td>35156</td>\n",
       "      <td>UK</td>\n",
       "      <td>MI</td>\n",
       "      <td>FT</td>\n",
       "      <td>In-person</td>\n",
       "      <td>UK</td>\n",
       "      <td>S</td>\n",
       "    </tr>\n",
       "    <tr>\n",
       "      <th>...</th>\n",
       "      <td>...</td>\n",
       "      <td>...</td>\n",
       "      <td>...</td>\n",
       "      <td>...</td>\n",
       "      <td>...</td>\n",
       "      <td>...</td>\n",
       "      <td>...</td>\n",
       "      <td>...</td>\n",
       "      <td>...</td>\n",
       "      <td>...</td>\n",
       "      <td>...</td>\n",
       "      <td>...</td>\n",
       "    </tr>\n",
       "    <tr>\n",
       "      <th>4995</th>\n",
       "      <td>2020</td>\n",
       "      <td>Machine Learning Engineer  (Remote)</td>\n",
       "      <td>NaN</td>\n",
       "      <td>NaN</td>\n",
       "      <td>179769</td>\n",
       "      <td>179111</td>\n",
       "      <td>UK</td>\n",
       "      <td>NaN</td>\n",
       "      <td>CT</td>\n",
       "      <td>In-person</td>\n",
       "      <td>IN</td>\n",
       "      <td>NaN</td>\n",
       "    </tr>\n",
       "    <tr>\n",
       "      <th>4996</th>\n",
       "      <td>2021</td>\n",
       "      <td>Machine Learning Engineer  (Remote)</td>\n",
       "      <td>NaN</td>\n",
       "      <td>NaN</td>\n",
       "      <td>184642</td>\n",
       "      <td>196373</td>\n",
       "      <td>CN</td>\n",
       "      <td>NaN</td>\n",
       "      <td>FL</td>\n",
       "      <td>Remote</td>\n",
       "      <td>UK</td>\n",
       "      <td>NaN</td>\n",
       "    </tr>\n",
       "    <tr>\n",
       "      <th>4997</th>\n",
       "      <td>2022</td>\n",
       "      <td>Machine Learning Engineer</td>\n",
       "      <td>Analysis</td>\n",
       "      <td>GBP</td>\n",
       "      <td>135319</td>\n",
       "      <td>51366</td>\n",
       "      <td>UK</td>\n",
       "      <td>EN</td>\n",
       "      <td>FL</td>\n",
       "      <td>Hybrid</td>\n",
       "      <td>JP</td>\n",
       "      <td>M</td>\n",
       "    </tr>\n",
       "    <tr>\n",
       "      <th>4998</th>\n",
       "      <td>2021</td>\n",
       "      <td>Statistician</td>\n",
       "      <td>Data Science</td>\n",
       "      <td>EUR</td>\n",
       "      <td>58037</td>\n",
       "      <td>181817</td>\n",
       "      <td>US</td>\n",
       "      <td>MI</td>\n",
       "      <td>PT</td>\n",
       "      <td>Remote</td>\n",
       "      <td>DE</td>\n",
       "      <td>S</td>\n",
       "    </tr>\n",
       "    <tr>\n",
       "      <th>4999</th>\n",
       "      <td>2020</td>\n",
       "      <td>Data Scientist  (Remote)</td>\n",
       "      <td>Engineering</td>\n",
       "      <td>GBP</td>\n",
       "      <td>143565</td>\n",
       "      <td>172425</td>\n",
       "      <td>CN</td>\n",
       "      <td>EX</td>\n",
       "      <td>CT</td>\n",
       "      <td>Remote</td>\n",
       "      <td>CN</td>\n",
       "      <td>L</td>\n",
       "    </tr>\n",
       "  </tbody>\n",
       "</table>\n",
       "<p>5000 rows × 12 columns</p>\n",
       "</div>"
      ],
      "text/plain": [
       "      work_year                             job_title  job_category  \\\n",
       "0          2022  Machine Learning Engineer  in office      Analysis   \n",
       "1          2020                Statistician  (Remote)         ML/AI   \n",
       "2          2022           Machine Learning Engineer           ML/AI   \n",
       "3          2022               Data Analyst  in office         ML/AI   \n",
       "4          2020                        Statistician    Data Science   \n",
       "...         ...                                   ...           ...   \n",
       "4995       2020   Machine Learning Engineer  (Remote)           NaN   \n",
       "4996       2021   Machine Learning Engineer  (Remote)           NaN   \n",
       "4997       2022           Machine Learning Engineer        Analysis   \n",
       "4998       2021                        Statistician    Data Science   \n",
       "4999       2020              Data Scientist  (Remote)   Engineering   \n",
       "\n",
       "     salary_currency  salary  salary_in_usd employee_residence  \\\n",
       "0                EUR  186597         136086                 US   \n",
       "1                JPY  110630          67982                 JP   \n",
       "2                INR   61280         153309                 UK   \n",
       "3                JPY  154130         135242                 DE   \n",
       "4                EUR  172312          35156                 UK   \n",
       "...              ...     ...            ...                ...   \n",
       "4995             NaN  179769         179111                 UK   \n",
       "4996             NaN  184642         196373                 CN   \n",
       "4997             GBP  135319          51366                 UK   \n",
       "4998             EUR   58037         181817                 US   \n",
       "4999             GBP  143565         172425                 CN   \n",
       "\n",
       "     experience_level employment_type work_setting company_location  \\\n",
       "0                  MI              CT       Remote               DE   \n",
       "1                  EX              FL       Remote               IN   \n",
       "2                  MI              CT       Hybrid               CN   \n",
       "3                  SE              FT       Hybrid               MX   \n",
       "4                  MI              FT    In-person               UK   \n",
       "...               ...             ...          ...              ...   \n",
       "4995              NaN              CT    In-person               IN   \n",
       "4996              NaN              FL       Remote               UK   \n",
       "4997               EN              FL       Hybrid               JP   \n",
       "4998               MI              PT       Remote               DE   \n",
       "4999               EX              CT       Remote               CN   \n",
       "\n",
       "     company_size  \n",
       "0               L  \n",
       "1               M  \n",
       "2               L  \n",
       "3               L  \n",
       "4               S  \n",
       "...           ...  \n",
       "4995          NaN  \n",
       "4996          NaN  \n",
       "4997            M  \n",
       "4998            S  \n",
       "4999            L  \n",
       "\n",
       "[5000 rows x 12 columns]"
      ]
     },
     "execution_count": 3,
     "metadata": {},
     "output_type": "execute_result"
    }
   ],
   "source": [
    "data"
   ]
  },
  {
   "cell_type": "code",
   "execution_count": 4,
   "metadata": {},
   "outputs": [
    {
     "name": "stdout",
     "output_type": "stream",
     "text": [
      "<class 'pandas.core.frame.DataFrame'>\n",
      "RangeIndex: 5000 entries, 0 to 4999\n",
      "Data columns (total 12 columns):\n",
      " #   Column              Non-Null Count  Dtype \n",
      "---  ------              --------------  ----- \n",
      " 0   work_year           5000 non-null   int64 \n",
      " 1   job_title           5000 non-null   object\n",
      " 2   job_category        4500 non-null   object\n",
      " 3   salary_currency     4500 non-null   object\n",
      " 4   salary              5000 non-null   int64 \n",
      " 5   salary_in_usd       5000 non-null   int64 \n",
      " 6   employee_residence  5000 non-null   object\n",
      " 7   experience_level    4500 non-null   object\n",
      " 8   employment_type     5000 non-null   object\n",
      " 9   work_setting        5000 non-null   object\n",
      " 10  company_location    5000 non-null   object\n",
      " 11  company_size        4500 non-null   object\n",
      "dtypes: int64(3), object(9)\n",
      "memory usage: 468.9+ KB\n"
     ]
    }
   ],
   "source": [
    "data.info()"
   ]
  },
  {
   "cell_type": "markdown",
   "metadata": {},
   "source": [
    "Podemos notar que há colunas com 500 registros faltando."
   ]
  },
  {
   "cell_type": "code",
   "execution_count": 8,
   "metadata": {},
   "outputs": [
    {
     "data": {
      "text/plain": [
       "work_year\n",
       "2020    1738\n",
       "2021    1640\n",
       "2022    1622\n",
       "Name: count, dtype: int64"
      ]
     },
     "execution_count": 8,
     "metadata": {},
     "output_type": "execute_result"
    }
   ],
   "source": [
    "# analisando coluna work_year\n",
    "data.work_year.value_counts()"
   ]
  },
  {
   "cell_type": "markdown",
   "metadata": {},
   "source": [
    "Os dados contidos neste dataset são referentes aos anos de 2020 a 2022."
   ]
  },
  {
   "cell_type": "code",
   "execution_count": 9,
   "metadata": {},
   "outputs": [
    {
     "data": {
      "text/plain": [
       "0"
      ]
     },
     "execution_count": 9,
     "metadata": {},
     "output_type": "execute_result"
    }
   ],
   "source": [
    "data.work_year.isnull().sum()"
   ]
  },
  {
   "cell_type": "markdown",
   "metadata": {},
   "source": [
    "Não apresenta valores nulos."
   ]
  },
  {
   "cell_type": "code",
   "execution_count": 19,
   "metadata": {},
   "outputs": [
    {
     "data": {
      "text/plain": [
       "job_title\n",
       "data engineer                  1065\n",
       "statistician                    994\n",
       "data scientist                  993\n",
       "data analyst                    984\n",
       "machine learning engineer       964\n",
       "Name: count, dtype: int64"
      ]
     },
     "execution_count": 19,
     "metadata": {},
     "output_type": "execute_result"
    }
   ],
   "source": [
    "# analisando os títulos de trabalhos\n",
    "data.job_title.value_counts()"
   ]
  },
  {
   "cell_type": "markdown",
   "metadata": {},
   "source": [
    "Aqui podemos notar que alguns títulos de repetem, porém identificando se é presencial ou home office. Como já possuímos uma coluna só com os tipos de trabalho, iremos remover estas identificações e agrupar os titulos únicos. "
   ]
  },
  {
   "cell_type": "code",
   "execution_count": 20,
   "metadata": {},
   "outputs": [],
   "source": [
    "data.job_title = data.job_title.str.replace('(', '').str.replace(')', '').str.replace('Remote', '').str.replace('in office', '')"
   ]
  },
  {
   "cell_type": "code",
   "execution_count": 21,
   "metadata": {},
   "outputs": [
    {
     "data": {
      "text/plain": [
       "0"
      ]
     },
     "execution_count": 21,
     "metadata": {},
     "output_type": "execute_result"
    }
   ],
   "source": [
    "data.job_title.isnull().sum()"
   ]
  },
  {
   "cell_type": "markdown",
   "metadata": {},
   "source": [
    "Não há valores nulos."
   ]
  },
  {
   "cell_type": "code",
   "execution_count": null,
   "metadata": {},
   "outputs": [
    {
     "data": {
      "text/plain": [
       "job_category\n",
       "Data Science    1173\n",
       "ML/AI           1151\n",
       "Analysis        1108\n",
       "Engineering     1068\n",
       "Name: count, dtype: int64"
      ]
     },
     "execution_count": 22,
     "metadata": {},
     "output_type": "execute_result"
    }
   ],
   "source": [
    "# analisando categoria dos trabalhos\n",
    "data.job_category.value_counts()"
   ]
  },
  {
   "cell_type": "code",
   "execution_count": 24,
   "metadata": {},
   "outputs": [
    {
     "data": {
      "text/plain": [
       "500"
      ]
     },
     "execution_count": 24,
     "metadata": {},
     "output_type": "execute_result"
    }
   ],
   "source": [
    "data.job_category.isnull().sum()"
   ]
  },
  {
   "cell_type": "markdown",
   "metadata": {},
   "source": [
    "Há 500 dados faltantes nas cetegorias de trabalho, vamos investigar."
   ]
  },
  {
   "cell_type": "code",
   "execution_count": 29,
   "metadata": {},
   "outputs": [
    {
     "data": {
      "text/html": [
       "<div>\n",
       "<style scoped>\n",
       "    .dataframe tbody tr th:only-of-type {\n",
       "        vertical-align: middle;\n",
       "    }\n",
       "\n",
       "    .dataframe tbody tr th {\n",
       "        vertical-align: top;\n",
       "    }\n",
       "\n",
       "    .dataframe thead th {\n",
       "        text-align: right;\n",
       "    }\n",
       "</style>\n",
       "<table border=\"1\" class=\"dataframe\">\n",
       "  <thead>\n",
       "    <tr style=\"text-align: right;\">\n",
       "      <th></th>\n",
       "      <th>work_year</th>\n",
       "      <th>job_title</th>\n",
       "      <th>job_category</th>\n",
       "      <th>salary_currency</th>\n",
       "      <th>salary</th>\n",
       "      <th>salary_in_usd</th>\n",
       "      <th>employee_residence</th>\n",
       "      <th>experience_level</th>\n",
       "      <th>employment_type</th>\n",
       "      <th>work_setting</th>\n",
       "      <th>company_location</th>\n",
       "      <th>company_size</th>\n",
       "    </tr>\n",
       "  </thead>\n",
       "  <tbody>\n",
       "    <tr>\n",
       "      <th>8</th>\n",
       "      <td>2022</td>\n",
       "      <td>data analyst</td>\n",
       "      <td>NaN</td>\n",
       "      <td>NaN</td>\n",
       "      <td>-44388</td>\n",
       "      <td>171043</td>\n",
       "      <td>UK</td>\n",
       "      <td>NaN</td>\n",
       "      <td>FL</td>\n",
       "      <td>In-person</td>\n",
       "      <td>DE</td>\n",
       "      <td>NaN</td>\n",
       "    </tr>\n",
       "    <tr>\n",
       "      <th>12</th>\n",
       "      <td>2020</td>\n",
       "      <td>machine learning engineer</td>\n",
       "      <td>NaN</td>\n",
       "      <td>NaN</td>\n",
       "      <td>143057</td>\n",
       "      <td>76456</td>\n",
       "      <td>MX</td>\n",
       "      <td>NaN</td>\n",
       "      <td>FL</td>\n",
       "      <td>In-person</td>\n",
       "      <td>DE</td>\n",
       "      <td>NaN</td>\n",
       "    </tr>\n",
       "    <tr>\n",
       "      <th>23</th>\n",
       "      <td>2021</td>\n",
       "      <td>statistician</td>\n",
       "      <td>NaN</td>\n",
       "      <td>NaN</td>\n",
       "      <td>-112757</td>\n",
       "      <td>124951</td>\n",
       "      <td>DE</td>\n",
       "      <td>NaN</td>\n",
       "      <td>FT</td>\n",
       "      <td>Hybrid</td>\n",
       "      <td>JP</td>\n",
       "      <td>NaN</td>\n",
       "    </tr>\n",
       "    <tr>\n",
       "      <th>26</th>\n",
       "      <td>2020</td>\n",
       "      <td>data scientist</td>\n",
       "      <td>NaN</td>\n",
       "      <td>NaN</td>\n",
       "      <td>56534</td>\n",
       "      <td>147139</td>\n",
       "      <td>DE</td>\n",
       "      <td>NaN</td>\n",
       "      <td>CT</td>\n",
       "      <td>Hybrid</td>\n",
       "      <td>JP</td>\n",
       "      <td>NaN</td>\n",
       "    </tr>\n",
       "    <tr>\n",
       "      <th>29</th>\n",
       "      <td>2022</td>\n",
       "      <td>data engineer</td>\n",
       "      <td>NaN</td>\n",
       "      <td>NaN</td>\n",
       "      <td>-142296</td>\n",
       "      <td>174973</td>\n",
       "      <td>DE</td>\n",
       "      <td>NaN</td>\n",
       "      <td>FL</td>\n",
       "      <td>Hybrid</td>\n",
       "      <td>DE</td>\n",
       "      <td>NaN</td>\n",
       "    </tr>\n",
       "    <tr>\n",
       "      <th>...</th>\n",
       "      <td>...</td>\n",
       "      <td>...</td>\n",
       "      <td>...</td>\n",
       "      <td>...</td>\n",
       "      <td>...</td>\n",
       "      <td>...</td>\n",
       "      <td>...</td>\n",
       "      <td>...</td>\n",
       "      <td>...</td>\n",
       "      <td>...</td>\n",
       "      <td>...</td>\n",
       "      <td>...</td>\n",
       "    </tr>\n",
       "    <tr>\n",
       "      <th>4923</th>\n",
       "      <td>2020</td>\n",
       "      <td>data scientist</td>\n",
       "      <td>NaN</td>\n",
       "      <td>NaN</td>\n",
       "      <td>174797</td>\n",
       "      <td>45003</td>\n",
       "      <td>IN</td>\n",
       "      <td>NaN</td>\n",
       "      <td>PT</td>\n",
       "      <td>In-person</td>\n",
       "      <td>UK</td>\n",
       "      <td>NaN</td>\n",
       "    </tr>\n",
       "    <tr>\n",
       "      <th>4966</th>\n",
       "      <td>2022</td>\n",
       "      <td>statistician</td>\n",
       "      <td>NaN</td>\n",
       "      <td>NaN</td>\n",
       "      <td>-85120</td>\n",
       "      <td>119362</td>\n",
       "      <td>US</td>\n",
       "      <td>NaN</td>\n",
       "      <td>FL</td>\n",
       "      <td>Remote</td>\n",
       "      <td>CN</td>\n",
       "      <td>NaN</td>\n",
       "    </tr>\n",
       "    <tr>\n",
       "      <th>4975</th>\n",
       "      <td>2022</td>\n",
       "      <td>machine learning engineer</td>\n",
       "      <td>NaN</td>\n",
       "      <td>NaN</td>\n",
       "      <td>53547</td>\n",
       "      <td>109608</td>\n",
       "      <td>IN</td>\n",
       "      <td>NaN</td>\n",
       "      <td>FT</td>\n",
       "      <td>Hybrid</td>\n",
       "      <td>CN</td>\n",
       "      <td>NaN</td>\n",
       "    </tr>\n",
       "    <tr>\n",
       "      <th>4995</th>\n",
       "      <td>2020</td>\n",
       "      <td>machine learning engineer</td>\n",
       "      <td>NaN</td>\n",
       "      <td>NaN</td>\n",
       "      <td>179769</td>\n",
       "      <td>179111</td>\n",
       "      <td>UK</td>\n",
       "      <td>NaN</td>\n",
       "      <td>CT</td>\n",
       "      <td>In-person</td>\n",
       "      <td>IN</td>\n",
       "      <td>NaN</td>\n",
       "    </tr>\n",
       "    <tr>\n",
       "      <th>4996</th>\n",
       "      <td>2021</td>\n",
       "      <td>machine learning engineer</td>\n",
       "      <td>NaN</td>\n",
       "      <td>NaN</td>\n",
       "      <td>184642</td>\n",
       "      <td>196373</td>\n",
       "      <td>CN</td>\n",
       "      <td>NaN</td>\n",
       "      <td>FL</td>\n",
       "      <td>Remote</td>\n",
       "      <td>UK</td>\n",
       "      <td>NaN</td>\n",
       "    </tr>\n",
       "  </tbody>\n",
       "</table>\n",
       "<p>500 rows × 12 columns</p>\n",
       "</div>"
      ],
      "text/plain": [
       "      work_year                    job_title job_category salary_currency  \\\n",
       "8          2022               data analyst            NaN             NaN   \n",
       "12         2020  machine learning engineer            NaN             NaN   \n",
       "23         2021               statistician            NaN             NaN   \n",
       "26         2020             data scientist            NaN             NaN   \n",
       "29         2022              data engineer            NaN             NaN   \n",
       "...         ...                          ...          ...             ...   \n",
       "4923       2020             data scientist            NaN             NaN   \n",
       "4966       2022               statistician            NaN             NaN   \n",
       "4975       2022  machine learning engineer            NaN             NaN   \n",
       "4995       2020  machine learning engineer            NaN             NaN   \n",
       "4996       2021  machine learning engineer            NaN             NaN   \n",
       "\n",
       "      salary  salary_in_usd employee_residence experience_level  \\\n",
       "8     -44388         171043                 UK              NaN   \n",
       "12    143057          76456                 MX              NaN   \n",
       "23   -112757         124951                 DE              NaN   \n",
       "26     56534         147139                 DE              NaN   \n",
       "29   -142296         174973                 DE              NaN   \n",
       "...      ...            ...                ...              ...   \n",
       "4923  174797          45003                 IN              NaN   \n",
       "4966  -85120         119362                 US              NaN   \n",
       "4975   53547         109608                 IN              NaN   \n",
       "4995  179769         179111                 UK              NaN   \n",
       "4996  184642         196373                 CN              NaN   \n",
       "\n",
       "     employment_type work_setting company_location company_size  \n",
       "8                 FL    In-person               DE          NaN  \n",
       "12                FL    In-person               DE          NaN  \n",
       "23                FT       Hybrid               JP          NaN  \n",
       "26                CT       Hybrid               JP          NaN  \n",
       "29                FL       Hybrid               DE          NaN  \n",
       "...              ...          ...              ...          ...  \n",
       "4923              PT    In-person               UK          NaN  \n",
       "4966              FL       Remote               CN          NaN  \n",
       "4975              FT       Hybrid               CN          NaN  \n",
       "4995              CT    In-person               IN          NaN  \n",
       "4996              FL       Remote               UK          NaN  \n",
       "\n",
       "[500 rows x 12 columns]"
      ]
     },
     "execution_count": 29,
     "metadata": {},
     "output_type": "execute_result"
    }
   ],
   "source": [
    "data.loc[data.job_category.isnull()]"
   ]
  },
  {
   "cell_type": "markdown",
   "metadata": {},
   "source": [
    "Os dados então faltantes não parecem ser erro no registro, eu acredito que possa ser só a falta de especificação de onde os dados foram tirados. Como não há um time de negócios para eu perguntar se esta este ponto é verdadeiro, irei supor que sim, e para solucionar e não deixar esses valores nulos, irei substituí-los pela moda de cada título de trabalho representado."
   ]
  },
  {
   "cell_type": "code",
   "execution_count": null,
   "metadata": {},
   "outputs": [],
   "source": []
  }
 ],
 "metadata": {
  "kernelspec": {
   "display_name": "Python 3",
   "language": "python",
   "name": "python3"
  },
  "language_info": {
   "codemirror_mode": {
    "name": "ipython",
    "version": 3
   },
   "file_extension": ".py",
   "mimetype": "text/x-python",
   "name": "python",
   "nbconvert_exporter": "python",
   "pygments_lexer": "ipython3",
   "version": "3.11.2"
  }
 },
 "nbformat": 4,
 "nbformat_minor": 2
}
